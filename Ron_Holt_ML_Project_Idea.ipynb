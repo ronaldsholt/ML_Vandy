{
  "nbformat": 4,
  "nbformat_minor": 0,
  "metadata": {
    "colab": {
      "name": "Ron Holt ML Project Idea.ipynb",
      "provenance": [],
      "authorship_tag": "ABX9TyMjknM0/+KwYuJXGn+JzF/+",
      "include_colab_link": true
    },
    "kernelspec": {
      "name": "python3",
      "display_name": "Python 3"
    },
    "language_info": {
      "name": "python"
    }
  },
  "cells": [
    {
      "cell_type": "markdown",
      "metadata": {
        "id": "view-in-github",
        "colab_type": "text"
      },
      "source": [
        "<a href=\"https://colab.research.google.com/github/ronaldsholt/ML_Vandy/blob/main/Ron_Holt_ML_Project_Idea.ipynb\" target=\"_parent\"><img src=\"https://colab.research.google.com/assets/colab-badge.svg\" alt=\"Open In Colab\"/></a>"
      ]
    },
    {
      "cell_type": "code",
      "source": [],
      "metadata": {
        "id": "vDqf6UtxISJH"
      },
      "execution_count": 1,
      "outputs": []
    },
    {
      "cell_type": "markdown",
      "source": [
        "Background: Predicting cell lineage patterns in RNAseq measurments.\n",
        "\n",
        "Project Description: Using representation learning as low dimentional input to higher dimentional clustering tools like TSNE or UMAP. \n",
        "\n",
        "Performance Metric: L2-norm/MSE"
      ],
      "metadata": {
        "id": "6nNhFA2eIhW6"
      }
    },
    {
      "cell_type": "code",
      "source": [],
      "metadata": {
        "id": "XsjeICquJG8Q"
      },
      "execution_count": null,
      "outputs": []
    }
  ]
}