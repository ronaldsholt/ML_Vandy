{
  "nbformat": 4,
  "nbformat_minor": 0,
  "metadata": {
    "colab": {
      "provenance": [],
      "authorship_tag": "ABX9TyM0vOweEAWPFRRu1G1mCpzE",
      "include_colab_link": true
    },
    "kernelspec": {
      "name": "python3",
      "display_name": "Python 3"
    },
    "language_info": {
      "name": "python"
    },
    "accelerator": "GPU",
    "gpuClass": "standard"
  },
  "cells": [
    {
      "cell_type": "markdown",
      "metadata": {
        "id": "view-in-github",
        "colab_type": "text"
      },
      "source": [
        "<a href=\"https://colab.research.google.com/github/ronaldsholt/ML_Vandy/blob/main/Ron_Holt_ML_Project_Idea.ipynb\" target=\"_parent\"><img src=\"https://colab.research.google.com/assets/colab-badge.svg\" alt=\"Open In Colab\"/></a>"
      ]
    },
    {
      "cell_type": "code",
      "source": [],
      "metadata": {
        "id": "vDqf6UtxISJH"
      },
      "execution_count": null,
      "outputs": []
    },
    {
      "cell_type": "markdown",
      "source": [
        "**Background**: Predicting cell lineage patterns in RNAseq measurments.\n",
        "\n",
        "**Project Description**: Using representation learning as low dimentional input to higher dimentional reduction clustering tools like TSNE or UMAP to learn cell lineage. Also evaluate against traditional methods like PCA or Logistic PCA.\n",
        "\n",
        "**Performance Metric**: Min{L2-norm/MSE}"
      ],
      "metadata": {
        "id": "6nNhFA2eIhW6"
      }
    },
    {
      "cell_type": "markdown",
      "source": [
        "#Basic EDA"
      ],
      "metadata": {
        "id": "WZj34ucE7G8k"
      }
    },
    {
      "cell_type": "code",
      "source": [
        "#Basic EDA Questions\n",
        "\n",
        "#1. How many variations are there?\n",
        "#2. What is the highest sequence variation ?\n",
        "#3. What is the highest gene-gene correlation ?\n",
        "#4. What is the class break down?"
      ],
      "metadata": {
        "id": "XsjeICquJG8Q",
        "colab": {
          "base_uri": "https://localhost:8080/"
        },
        "outputId": "e2cdb336-79de-4e57-fbda-5a759fcb59d3"
      },
      "execution_count": null,
      "outputs": [
        {
          "output_type": "stream",
          "name": "stderr",
          "text": [
            "UsageError: Line magic function `%md` not found.\n"
          ]
        }
      ]
    },
    {
      "cell_type": "code",
      "source": [
        "# Calling and assigning GPU\n",
        "%tensorflow_version 2.x\n",
        "import tensorflow as tf\n",
        "device_name = tf.test.gpu_device_name()\n",
        "if device_name != '/device:GPU:0':\n",
        "  raise SystemError('GPU device not found')\n",
        "print('Found GPU at: {}'.format(device_name))\n"
      ],
      "metadata": {
        "colab": {
          "base_uri": "https://localhost:8080/"
        },
        "id": "cQWPyrrZ6_I7",
        "outputId": "e262498e-a878-45a3-a154-123e5facfd9e"
      },
      "execution_count": 3,
      "outputs": [
        {
          "output_type": "stream",
          "name": "stdout",
          "text": [
            "Colab only includes TensorFlow 2.x; %tensorflow_version has no effect.\n",
            "Found GPU at: /device:GPU:0\n"
          ]
        }
      ]
    },
    {
      "cell_type": "code",
      "source": [
        "from google.colab import drive\n",
        "drive.mount('/content/drive')"
      ],
      "metadata": {
        "colab": {
          "base_uri": "https://localhost:8080/"
        },
        "id": "I0rKogwR7OJ4",
        "outputId": "75850604-2543-4097-9287-ce6960d136ee"
      },
      "execution_count": 4,
      "outputs": [
        {
          "output_type": "stream",
          "name": "stdout",
          "text": [
            "Mounted at /content/drive\n"
          ]
        }
      ]
    },
    {
      "cell_type": "code",
      "source": [
        "import pandas as pd\n",
        "\n",
        "# import the data from drive\n",
        "path = \"/content/drive/My Drive/rna_proj/data/scaled_all_specific_exp/mat.norm.scale.2000.csv\" \n",
        "df = pd.read_csv(path)\n",
        "df = df.drop([\"Unnamed: 0\"], axis = 1) "
      ],
      "metadata": {
        "id": "j3sZ6vod7QoJ"
      },
      "execution_count": 5,
      "outputs": []
    },
    {
      "cell_type": "code",
      "source": [
        "path_1 = \"/content/drive/My Drive/rna_proj/data/variable.features.csv\"\n",
        "df_feat = pd.read_csv(path_1)"
      ],
      "metadata": {
        "id": "ADeyoG3p7abN"
      },
      "execution_count": 6,
      "outputs": []
    },
    {
      "cell_type": "code",
      "source": [
        "# index the columns based on 2000 features \n",
        "lst = list(df_feat[\"x\"])\n",
        "lst.append(\"Variable\") #add back the RNA seq\n",
        "\n",
        "# index df to select only these columns using intersect\n",
        "df_new = df[df.columns.intersection(lst)]"
      ],
      "metadata": {
        "id": "i5MoS9o27o1O"
      },
      "execution_count": 7,
      "outputs": []
    },
    {
      "cell_type": "code",
      "source": [
        "df_new.head()"
      ],
      "metadata": {
        "colab": {
          "base_uri": "https://localhost:8080/",
          "height": 299
        },
        "id": "P7iQWsTq7oyh",
        "outputId": "7f48dbc9-c069-4476-ce51-0fe3ef3514f0"
      },
      "execution_count": 8,
      "outputs": [
        {
          "output_type": "execute_result",
          "data": {
            "text/plain": [
              "           Variable     Sox17     Prex2     Terf1      Mcm3   Khdrbs2  \\\n",
              "0  AAACCCAGTTCCACAA -1.393788 -0.400318  1.358433 -0.494224 -0.084449   \n",
              "1  AAACCCATCACGAACT -0.582664 -1.409803  0.177138  1.502572 -0.084449   \n",
              "2  AAACGAAAGCCGAATG -0.146528 -0.251669 -0.801586 -0.310414 -0.084449   \n",
              "3  AAACGAAGTTCAAAGA  1.102187 -0.634825  1.040665 -0.772438 -0.084449   \n",
              "4  AAACGAATCCGACGGT  0.863034  0.133187  0.329966 -0.557825 -0.084449   \n",
              "\n",
              "      Prim2      Bag2    Ptpn18    Hs6st1  ...     Nolc1     Nfkb2     Gsto1  \\\n",
              "0  0.199815 -0.490080 -0.298271 -0.493740  ...  0.447022  0.738963  1.262297   \n",
              "1  0.554011  1.077822  1.039509  0.734416  ...  0.125040 -0.603773 -0.720412   \n",
              "2  1.765205 -0.490080 -0.186529 -0.493740  ...  0.318736 -0.603773  0.582429   \n",
              "3  2.116643  0.681951 -0.487508 -0.493740  ... -0.638577 -0.603773 -0.720412   \n",
              "4 -0.616780 -0.490080  1.091608 -0.493740  ... -1.194605 -0.603773 -0.720412   \n",
              "\n",
              "       Add3      Mxi1     Dusp5   Gm16299     Pdcd4   Plekhs1     Shtn1  \n",
              "0 -0.410792  1.378466 -0.422791 -0.043317 -0.170391 -0.078911 -0.195295  \n",
              "1 -0.980596  0.055242 -0.422791 -0.043317 -0.641089 -0.078911 -0.195295  \n",
              "2 -0.028609 -0.250889  0.645672 -0.043317 -0.641089 -0.078911 -0.195295  \n",
              "3  0.131617  0.788557 -0.422791 -0.043317 -0.136620 -0.078911 -0.195295  \n",
              "4  1.233833 -0.775900  1.532813 -0.043317  1.188186 -0.078911 -0.195295  \n",
              "\n",
              "[5 rows x 2001 columns]"
            ],
            "text/html": [
              "\n",
              "  <div id=\"df-2a4f4e1d-1e8a-452c-a182-77f931be1f90\">\n",
              "    <div class=\"colab-df-container\">\n",
              "      <div>\n",
              "<style scoped>\n",
              "    .dataframe tbody tr th:only-of-type {\n",
              "        vertical-align: middle;\n",
              "    }\n",
              "\n",
              "    .dataframe tbody tr th {\n",
              "        vertical-align: top;\n",
              "    }\n",
              "\n",
              "    .dataframe thead th {\n",
              "        text-align: right;\n",
              "    }\n",
              "</style>\n",
              "<table border=\"1\" class=\"dataframe\">\n",
              "  <thead>\n",
              "    <tr style=\"text-align: right;\">\n",
              "      <th></th>\n",
              "      <th>Variable</th>\n",
              "      <th>Sox17</th>\n",
              "      <th>Prex2</th>\n",
              "      <th>Terf1</th>\n",
              "      <th>Mcm3</th>\n",
              "      <th>Khdrbs2</th>\n",
              "      <th>Prim2</th>\n",
              "      <th>Bag2</th>\n",
              "      <th>Ptpn18</th>\n",
              "      <th>Hs6st1</th>\n",
              "      <th>...</th>\n",
              "      <th>Nolc1</th>\n",
              "      <th>Nfkb2</th>\n",
              "      <th>Gsto1</th>\n",
              "      <th>Add3</th>\n",
              "      <th>Mxi1</th>\n",
              "      <th>Dusp5</th>\n",
              "      <th>Gm16299</th>\n",
              "      <th>Pdcd4</th>\n",
              "      <th>Plekhs1</th>\n",
              "      <th>Shtn1</th>\n",
              "    </tr>\n",
              "  </thead>\n",
              "  <tbody>\n",
              "    <tr>\n",
              "      <th>0</th>\n",
              "      <td>AAACCCAGTTCCACAA</td>\n",
              "      <td>-1.393788</td>\n",
              "      <td>-0.400318</td>\n",
              "      <td>1.358433</td>\n",
              "      <td>-0.494224</td>\n",
              "      <td>-0.084449</td>\n",
              "      <td>0.199815</td>\n",
              "      <td>-0.490080</td>\n",
              "      <td>-0.298271</td>\n",
              "      <td>-0.493740</td>\n",
              "      <td>...</td>\n",
              "      <td>0.447022</td>\n",
              "      <td>0.738963</td>\n",
              "      <td>1.262297</td>\n",
              "      <td>-0.410792</td>\n",
              "      <td>1.378466</td>\n",
              "      <td>-0.422791</td>\n",
              "      <td>-0.043317</td>\n",
              "      <td>-0.170391</td>\n",
              "      <td>-0.078911</td>\n",
              "      <td>-0.195295</td>\n",
              "    </tr>\n",
              "    <tr>\n",
              "      <th>1</th>\n",
              "      <td>AAACCCATCACGAACT</td>\n",
              "      <td>-0.582664</td>\n",
              "      <td>-1.409803</td>\n",
              "      <td>0.177138</td>\n",
              "      <td>1.502572</td>\n",
              "      <td>-0.084449</td>\n",
              "      <td>0.554011</td>\n",
              "      <td>1.077822</td>\n",
              "      <td>1.039509</td>\n",
              "      <td>0.734416</td>\n",
              "      <td>...</td>\n",
              "      <td>0.125040</td>\n",
              "      <td>-0.603773</td>\n",
              "      <td>-0.720412</td>\n",
              "      <td>-0.980596</td>\n",
              "      <td>0.055242</td>\n",
              "      <td>-0.422791</td>\n",
              "      <td>-0.043317</td>\n",
              "      <td>-0.641089</td>\n",
              "      <td>-0.078911</td>\n",
              "      <td>-0.195295</td>\n",
              "    </tr>\n",
              "    <tr>\n",
              "      <th>2</th>\n",
              "      <td>AAACGAAAGCCGAATG</td>\n",
              "      <td>-0.146528</td>\n",
              "      <td>-0.251669</td>\n",
              "      <td>-0.801586</td>\n",
              "      <td>-0.310414</td>\n",
              "      <td>-0.084449</td>\n",
              "      <td>1.765205</td>\n",
              "      <td>-0.490080</td>\n",
              "      <td>-0.186529</td>\n",
              "      <td>-0.493740</td>\n",
              "      <td>...</td>\n",
              "      <td>0.318736</td>\n",
              "      <td>-0.603773</td>\n",
              "      <td>0.582429</td>\n",
              "      <td>-0.028609</td>\n",
              "      <td>-0.250889</td>\n",
              "      <td>0.645672</td>\n",
              "      <td>-0.043317</td>\n",
              "      <td>-0.641089</td>\n",
              "      <td>-0.078911</td>\n",
              "      <td>-0.195295</td>\n",
              "    </tr>\n",
              "    <tr>\n",
              "      <th>3</th>\n",
              "      <td>AAACGAAGTTCAAAGA</td>\n",
              "      <td>1.102187</td>\n",
              "      <td>-0.634825</td>\n",
              "      <td>1.040665</td>\n",
              "      <td>-0.772438</td>\n",
              "      <td>-0.084449</td>\n",
              "      <td>2.116643</td>\n",
              "      <td>0.681951</td>\n",
              "      <td>-0.487508</td>\n",
              "      <td>-0.493740</td>\n",
              "      <td>...</td>\n",
              "      <td>-0.638577</td>\n",
              "      <td>-0.603773</td>\n",
              "      <td>-0.720412</td>\n",
              "      <td>0.131617</td>\n",
              "      <td>0.788557</td>\n",
              "      <td>-0.422791</td>\n",
              "      <td>-0.043317</td>\n",
              "      <td>-0.136620</td>\n",
              "      <td>-0.078911</td>\n",
              "      <td>-0.195295</td>\n",
              "    </tr>\n",
              "    <tr>\n",
              "      <th>4</th>\n",
              "      <td>AAACGAATCCGACGGT</td>\n",
              "      <td>0.863034</td>\n",
              "      <td>0.133187</td>\n",
              "      <td>0.329966</td>\n",
              "      <td>-0.557825</td>\n",
              "      <td>-0.084449</td>\n",
              "      <td>-0.616780</td>\n",
              "      <td>-0.490080</td>\n",
              "      <td>1.091608</td>\n",
              "      <td>-0.493740</td>\n",
              "      <td>...</td>\n",
              "      <td>-1.194605</td>\n",
              "      <td>-0.603773</td>\n",
              "      <td>-0.720412</td>\n",
              "      <td>1.233833</td>\n",
              "      <td>-0.775900</td>\n",
              "      <td>1.532813</td>\n",
              "      <td>-0.043317</td>\n",
              "      <td>1.188186</td>\n",
              "      <td>-0.078911</td>\n",
              "      <td>-0.195295</td>\n",
              "    </tr>\n",
              "  </tbody>\n",
              "</table>\n",
              "<p>5 rows × 2001 columns</p>\n",
              "</div>\n",
              "      <button class=\"colab-df-convert\" onclick=\"convertToInteractive('df-2a4f4e1d-1e8a-452c-a182-77f931be1f90')\"\n",
              "              title=\"Convert this dataframe to an interactive table.\"\n",
              "              style=\"display:none;\">\n",
              "        \n",
              "  <svg xmlns=\"http://www.w3.org/2000/svg\" height=\"24px\"viewBox=\"0 0 24 24\"\n",
              "       width=\"24px\">\n",
              "    <path d=\"M0 0h24v24H0V0z\" fill=\"none\"/>\n",
              "    <path d=\"M18.56 5.44l.94 2.06.94-2.06 2.06-.94-2.06-.94-.94-2.06-.94 2.06-2.06.94zm-11 1L8.5 8.5l.94-2.06 2.06-.94-2.06-.94L8.5 2.5l-.94 2.06-2.06.94zm10 10l.94 2.06.94-2.06 2.06-.94-2.06-.94-.94-2.06-.94 2.06-2.06.94z\"/><path d=\"M17.41 7.96l-1.37-1.37c-.4-.4-.92-.59-1.43-.59-.52 0-1.04.2-1.43.59L10.3 9.45l-7.72 7.72c-.78.78-.78 2.05 0 2.83L4 21.41c.39.39.9.59 1.41.59.51 0 1.02-.2 1.41-.59l7.78-7.78 2.81-2.81c.8-.78.8-2.07 0-2.86zM5.41 20L4 18.59l7.72-7.72 1.47 1.35L5.41 20z\"/>\n",
              "  </svg>\n",
              "      </button>\n",
              "      \n",
              "  <style>\n",
              "    .colab-df-container {\n",
              "      display:flex;\n",
              "      flex-wrap:wrap;\n",
              "      gap: 12px;\n",
              "    }\n",
              "\n",
              "    .colab-df-convert {\n",
              "      background-color: #E8F0FE;\n",
              "      border: none;\n",
              "      border-radius: 50%;\n",
              "      cursor: pointer;\n",
              "      display: none;\n",
              "      fill: #1967D2;\n",
              "      height: 32px;\n",
              "      padding: 0 0 0 0;\n",
              "      width: 32px;\n",
              "    }\n",
              "\n",
              "    .colab-df-convert:hover {\n",
              "      background-color: #E2EBFA;\n",
              "      box-shadow: 0px 1px 2px rgba(60, 64, 67, 0.3), 0px 1px 3px 1px rgba(60, 64, 67, 0.15);\n",
              "      fill: #174EA6;\n",
              "    }\n",
              "\n",
              "    [theme=dark] .colab-df-convert {\n",
              "      background-color: #3B4455;\n",
              "      fill: #D2E3FC;\n",
              "    }\n",
              "\n",
              "    [theme=dark] .colab-df-convert:hover {\n",
              "      background-color: #434B5C;\n",
              "      box-shadow: 0px 1px 3px 1px rgba(0, 0, 0, 0.15);\n",
              "      filter: drop-shadow(0px 1px 2px rgba(0, 0, 0, 0.3));\n",
              "      fill: #FFFFFF;\n",
              "    }\n",
              "  </style>\n",
              "\n",
              "      <script>\n",
              "        const buttonEl =\n",
              "          document.querySelector('#df-2a4f4e1d-1e8a-452c-a182-77f931be1f90 button.colab-df-convert');\n",
              "        buttonEl.style.display =\n",
              "          google.colab.kernel.accessAllowed ? 'block' : 'none';\n",
              "\n",
              "        async function convertToInteractive(key) {\n",
              "          const element = document.querySelector('#df-2a4f4e1d-1e8a-452c-a182-77f931be1f90');\n",
              "          const dataTable =\n",
              "            await google.colab.kernel.invokeFunction('convertToInteractive',\n",
              "                                                     [key], {});\n",
              "          if (!dataTable) return;\n",
              "\n",
              "          const docLinkHtml = 'Like what you see? Visit the ' +\n",
              "            '<a target=\"_blank\" href=https://colab.research.google.com/notebooks/data_table.ipynb>data table notebook</a>'\n",
              "            + ' to learn more about interactive tables.';\n",
              "          element.innerHTML = '';\n",
              "          dataTable['output_type'] = 'display_data';\n",
              "          await google.colab.output.renderOutput(dataTable, element);\n",
              "          const docLink = document.createElement('div');\n",
              "          docLink.innerHTML = docLinkHtml;\n",
              "          element.appendChild(docLink);\n",
              "        }\n",
              "      </script>\n",
              "    </div>\n",
              "  </div>\n",
              "  "
            ]
          },
          "metadata": {},
          "execution_count": 8
        }
      ]
    },
    {
      "cell_type": "code",
      "source": [
        "# Import labels, and join on Variable barcode \n",
        "# Import the 2001 cell labels\n",
        "path_3 = \"/content/drive/My Drive/rna_proj/data/cell.types.2001.csv\"\n",
        "df_labels = pd.read_csv(path_3)\n",
        "df_labels = df_labels.rename(columns={\"Unnamed: 0\": \"Variable\"})\n",
        "df_labeled = pd.merge(df_labels, df_new, on=\"Variable\")"
      ],
      "metadata": {
        "id": "mffzFPZ38UAB"
      },
      "execution_count": 9,
      "outputs": []
    },
    {
      "cell_type": "code",
      "source": [
        "df_new = df_labeled #rename\n",
        "df_new.head()"
      ],
      "metadata": {
        "colab": {
          "base_uri": "https://localhost:8080/",
          "height": 299
        },
        "id": "ClUI4G3-8ZBo",
        "outputId": "cc4d6663-86cc-4110-ba7a-d236308cbf83"
      },
      "execution_count": 10,
      "outputs": [
        {
          "output_type": "execute_result",
          "data": {
            "text/plain": [
              "           Variable          cell.type     Sox17     Prex2     Terf1  \\\n",
              "0  AAACCCAGTTCCACAA  cycling_capillary -1.393788 -0.400318  1.358433   \n",
              "1  AAACCCATCACGAACT           artery_1 -0.582664 -1.409803  0.177138   \n",
              "2  AAACGAAAGCCGAATG  cycling_capillary -0.146528 -0.251669 -0.801586   \n",
              "3  AAACGAAGTTCAAAGA  cycling_capillary  1.102187 -0.634825  1.040665   \n",
              "4  AAACGAATCCGACGGT           artery_2  0.863034  0.133187  0.329966   \n",
              "\n",
              "       Mcm3   Khdrbs2     Prim2      Bag2    Ptpn18  ...     Nolc1     Nfkb2  \\\n",
              "0 -0.494224 -0.084449  0.199815 -0.490080 -0.298271  ...  0.447022  0.738963   \n",
              "1  1.502572 -0.084449  0.554011  1.077822  1.039509  ...  0.125040 -0.603773   \n",
              "2 -0.310414 -0.084449  1.765205 -0.490080 -0.186529  ...  0.318736 -0.603773   \n",
              "3 -0.772438 -0.084449  2.116643  0.681951 -0.487508  ... -0.638577 -0.603773   \n",
              "4 -0.557825 -0.084449 -0.616780 -0.490080  1.091608  ... -1.194605 -0.603773   \n",
              "\n",
              "      Gsto1      Add3      Mxi1     Dusp5   Gm16299     Pdcd4   Plekhs1  \\\n",
              "0  1.262297 -0.410792  1.378466 -0.422791 -0.043317 -0.170391 -0.078911   \n",
              "1 -0.720412 -0.980596  0.055242 -0.422791 -0.043317 -0.641089 -0.078911   \n",
              "2  0.582429 -0.028609 -0.250889  0.645672 -0.043317 -0.641089 -0.078911   \n",
              "3 -0.720412  0.131617  0.788557 -0.422791 -0.043317 -0.136620 -0.078911   \n",
              "4 -0.720412  1.233833 -0.775900  1.532813 -0.043317  1.188186 -0.078911   \n",
              "\n",
              "      Shtn1  \n",
              "0 -0.195295  \n",
              "1 -0.195295  \n",
              "2 -0.195295  \n",
              "3 -0.195295  \n",
              "4 -0.195295  \n",
              "\n",
              "[5 rows x 2002 columns]"
            ],
            "text/html": [
              "\n",
              "  <div id=\"df-53accaa7-6c9c-48cf-80c4-b6464b43fe06\">\n",
              "    <div class=\"colab-df-container\">\n",
              "      <div>\n",
              "<style scoped>\n",
              "    .dataframe tbody tr th:only-of-type {\n",
              "        vertical-align: middle;\n",
              "    }\n",
              "\n",
              "    .dataframe tbody tr th {\n",
              "        vertical-align: top;\n",
              "    }\n",
              "\n",
              "    .dataframe thead th {\n",
              "        text-align: right;\n",
              "    }\n",
              "</style>\n",
              "<table border=\"1\" class=\"dataframe\">\n",
              "  <thead>\n",
              "    <tr style=\"text-align: right;\">\n",
              "      <th></th>\n",
              "      <th>Variable</th>\n",
              "      <th>cell.type</th>\n",
              "      <th>Sox17</th>\n",
              "      <th>Prex2</th>\n",
              "      <th>Terf1</th>\n",
              "      <th>Mcm3</th>\n",
              "      <th>Khdrbs2</th>\n",
              "      <th>Prim2</th>\n",
              "      <th>Bag2</th>\n",
              "      <th>Ptpn18</th>\n",
              "      <th>...</th>\n",
              "      <th>Nolc1</th>\n",
              "      <th>Nfkb2</th>\n",
              "      <th>Gsto1</th>\n",
              "      <th>Add3</th>\n",
              "      <th>Mxi1</th>\n",
              "      <th>Dusp5</th>\n",
              "      <th>Gm16299</th>\n",
              "      <th>Pdcd4</th>\n",
              "      <th>Plekhs1</th>\n",
              "      <th>Shtn1</th>\n",
              "    </tr>\n",
              "  </thead>\n",
              "  <tbody>\n",
              "    <tr>\n",
              "      <th>0</th>\n",
              "      <td>AAACCCAGTTCCACAA</td>\n",
              "      <td>cycling_capillary</td>\n",
              "      <td>-1.393788</td>\n",
              "      <td>-0.400318</td>\n",
              "      <td>1.358433</td>\n",
              "      <td>-0.494224</td>\n",
              "      <td>-0.084449</td>\n",
              "      <td>0.199815</td>\n",
              "      <td>-0.490080</td>\n",
              "      <td>-0.298271</td>\n",
              "      <td>...</td>\n",
              "      <td>0.447022</td>\n",
              "      <td>0.738963</td>\n",
              "      <td>1.262297</td>\n",
              "      <td>-0.410792</td>\n",
              "      <td>1.378466</td>\n",
              "      <td>-0.422791</td>\n",
              "      <td>-0.043317</td>\n",
              "      <td>-0.170391</td>\n",
              "      <td>-0.078911</td>\n",
              "      <td>-0.195295</td>\n",
              "    </tr>\n",
              "    <tr>\n",
              "      <th>1</th>\n",
              "      <td>AAACCCATCACGAACT</td>\n",
              "      <td>artery_1</td>\n",
              "      <td>-0.582664</td>\n",
              "      <td>-1.409803</td>\n",
              "      <td>0.177138</td>\n",
              "      <td>1.502572</td>\n",
              "      <td>-0.084449</td>\n",
              "      <td>0.554011</td>\n",
              "      <td>1.077822</td>\n",
              "      <td>1.039509</td>\n",
              "      <td>...</td>\n",
              "      <td>0.125040</td>\n",
              "      <td>-0.603773</td>\n",
              "      <td>-0.720412</td>\n",
              "      <td>-0.980596</td>\n",
              "      <td>0.055242</td>\n",
              "      <td>-0.422791</td>\n",
              "      <td>-0.043317</td>\n",
              "      <td>-0.641089</td>\n",
              "      <td>-0.078911</td>\n",
              "      <td>-0.195295</td>\n",
              "    </tr>\n",
              "    <tr>\n",
              "      <th>2</th>\n",
              "      <td>AAACGAAAGCCGAATG</td>\n",
              "      <td>cycling_capillary</td>\n",
              "      <td>-0.146528</td>\n",
              "      <td>-0.251669</td>\n",
              "      <td>-0.801586</td>\n",
              "      <td>-0.310414</td>\n",
              "      <td>-0.084449</td>\n",
              "      <td>1.765205</td>\n",
              "      <td>-0.490080</td>\n",
              "      <td>-0.186529</td>\n",
              "      <td>...</td>\n",
              "      <td>0.318736</td>\n",
              "      <td>-0.603773</td>\n",
              "      <td>0.582429</td>\n",
              "      <td>-0.028609</td>\n",
              "      <td>-0.250889</td>\n",
              "      <td>0.645672</td>\n",
              "      <td>-0.043317</td>\n",
              "      <td>-0.641089</td>\n",
              "      <td>-0.078911</td>\n",
              "      <td>-0.195295</td>\n",
              "    </tr>\n",
              "    <tr>\n",
              "      <th>3</th>\n",
              "      <td>AAACGAAGTTCAAAGA</td>\n",
              "      <td>cycling_capillary</td>\n",
              "      <td>1.102187</td>\n",
              "      <td>-0.634825</td>\n",
              "      <td>1.040665</td>\n",
              "      <td>-0.772438</td>\n",
              "      <td>-0.084449</td>\n",
              "      <td>2.116643</td>\n",
              "      <td>0.681951</td>\n",
              "      <td>-0.487508</td>\n",
              "      <td>...</td>\n",
              "      <td>-0.638577</td>\n",
              "      <td>-0.603773</td>\n",
              "      <td>-0.720412</td>\n",
              "      <td>0.131617</td>\n",
              "      <td>0.788557</td>\n",
              "      <td>-0.422791</td>\n",
              "      <td>-0.043317</td>\n",
              "      <td>-0.136620</td>\n",
              "      <td>-0.078911</td>\n",
              "      <td>-0.195295</td>\n",
              "    </tr>\n",
              "    <tr>\n",
              "      <th>4</th>\n",
              "      <td>AAACGAATCCGACGGT</td>\n",
              "      <td>artery_2</td>\n",
              "      <td>0.863034</td>\n",
              "      <td>0.133187</td>\n",
              "      <td>0.329966</td>\n",
              "      <td>-0.557825</td>\n",
              "      <td>-0.084449</td>\n",
              "      <td>-0.616780</td>\n",
              "      <td>-0.490080</td>\n",
              "      <td>1.091608</td>\n",
              "      <td>...</td>\n",
              "      <td>-1.194605</td>\n",
              "      <td>-0.603773</td>\n",
              "      <td>-0.720412</td>\n",
              "      <td>1.233833</td>\n",
              "      <td>-0.775900</td>\n",
              "      <td>1.532813</td>\n",
              "      <td>-0.043317</td>\n",
              "      <td>1.188186</td>\n",
              "      <td>-0.078911</td>\n",
              "      <td>-0.195295</td>\n",
              "    </tr>\n",
              "  </tbody>\n",
              "</table>\n",
              "<p>5 rows × 2002 columns</p>\n",
              "</div>\n",
              "      <button class=\"colab-df-convert\" onclick=\"convertToInteractive('df-53accaa7-6c9c-48cf-80c4-b6464b43fe06')\"\n",
              "              title=\"Convert this dataframe to an interactive table.\"\n",
              "              style=\"display:none;\">\n",
              "        \n",
              "  <svg xmlns=\"http://www.w3.org/2000/svg\" height=\"24px\"viewBox=\"0 0 24 24\"\n",
              "       width=\"24px\">\n",
              "    <path d=\"M0 0h24v24H0V0z\" fill=\"none\"/>\n",
              "    <path d=\"M18.56 5.44l.94 2.06.94-2.06 2.06-.94-2.06-.94-.94-2.06-.94 2.06-2.06.94zm-11 1L8.5 8.5l.94-2.06 2.06-.94-2.06-.94L8.5 2.5l-.94 2.06-2.06.94zm10 10l.94 2.06.94-2.06 2.06-.94-2.06-.94-.94-2.06-.94 2.06-2.06.94z\"/><path d=\"M17.41 7.96l-1.37-1.37c-.4-.4-.92-.59-1.43-.59-.52 0-1.04.2-1.43.59L10.3 9.45l-7.72 7.72c-.78.78-.78 2.05 0 2.83L4 21.41c.39.39.9.59 1.41.59.51 0 1.02-.2 1.41-.59l7.78-7.78 2.81-2.81c.8-.78.8-2.07 0-2.86zM5.41 20L4 18.59l7.72-7.72 1.47 1.35L5.41 20z\"/>\n",
              "  </svg>\n",
              "      </button>\n",
              "      \n",
              "  <style>\n",
              "    .colab-df-container {\n",
              "      display:flex;\n",
              "      flex-wrap:wrap;\n",
              "      gap: 12px;\n",
              "    }\n",
              "\n",
              "    .colab-df-convert {\n",
              "      background-color: #E8F0FE;\n",
              "      border: none;\n",
              "      border-radius: 50%;\n",
              "      cursor: pointer;\n",
              "      display: none;\n",
              "      fill: #1967D2;\n",
              "      height: 32px;\n",
              "      padding: 0 0 0 0;\n",
              "      width: 32px;\n",
              "    }\n",
              "\n",
              "    .colab-df-convert:hover {\n",
              "      background-color: #E2EBFA;\n",
              "      box-shadow: 0px 1px 2px rgba(60, 64, 67, 0.3), 0px 1px 3px 1px rgba(60, 64, 67, 0.15);\n",
              "      fill: #174EA6;\n",
              "    }\n",
              "\n",
              "    [theme=dark] .colab-df-convert {\n",
              "      background-color: #3B4455;\n",
              "      fill: #D2E3FC;\n",
              "    }\n",
              "\n",
              "    [theme=dark] .colab-df-convert:hover {\n",
              "      background-color: #434B5C;\n",
              "      box-shadow: 0px 1px 3px 1px rgba(0, 0, 0, 0.15);\n",
              "      filter: drop-shadow(0px 1px 2px rgba(0, 0, 0, 0.3));\n",
              "      fill: #FFFFFF;\n",
              "    }\n",
              "  </style>\n",
              "\n",
              "      <script>\n",
              "        const buttonEl =\n",
              "          document.querySelector('#df-53accaa7-6c9c-48cf-80c4-b6464b43fe06 button.colab-df-convert');\n",
              "        buttonEl.style.display =\n",
              "          google.colab.kernel.accessAllowed ? 'block' : 'none';\n",
              "\n",
              "        async function convertToInteractive(key) {\n",
              "          const element = document.querySelector('#df-53accaa7-6c9c-48cf-80c4-b6464b43fe06');\n",
              "          const dataTable =\n",
              "            await google.colab.kernel.invokeFunction('convertToInteractive',\n",
              "                                                     [key], {});\n",
              "          if (!dataTable) return;\n",
              "\n",
              "          const docLinkHtml = 'Like what you see? Visit the ' +\n",
              "            '<a target=\"_blank\" href=https://colab.research.google.com/notebooks/data_table.ipynb>data table notebook</a>'\n",
              "            + ' to learn more about interactive tables.';\n",
              "          element.innerHTML = '';\n",
              "          dataTable['output_type'] = 'display_data';\n",
              "          await google.colab.output.renderOutput(dataTable, element);\n",
              "          const docLink = document.createElement('div');\n",
              "          docLink.innerHTML = docLinkHtml;\n",
              "          element.appendChild(docLink);\n",
              "        }\n",
              "      </script>\n",
              "    </div>\n",
              "  </div>\n",
              "  "
            ]
          },
          "metadata": {},
          "execution_count": 10
        }
      ]
    },
    {
      "cell_type": "markdown",
      "source": [
        "# EDA Questions"
      ],
      "metadata": {
        "id": "m_GBx8jl8rD_"
      }
    },
    {
      "cell_type": "code",
      "source": [
        "#1. How many variations are there?\n",
        "\n",
        "df_new[\"Variable\"].nunique()"
      ],
      "metadata": {
        "colab": {
          "base_uri": "https://localhost:8080/"
        },
        "id": "eiT2O6_O7u2q",
        "outputId": "0760edb8-6006-488c-bf9a-2099f4976a19"
      },
      "execution_count": null,
      "outputs": [
        {
          "output_type": "execute_result",
          "data": {
            "text/plain": [
              "1981"
            ]
          },
          "metadata": {},
          "execution_count": 7
        }
      ]
    },
    {
      "cell_type": "code",
      "source": [
        "#2. What is the highest sequence variation ?"
      ],
      "metadata": {
        "id": "o3xfgnvA7vtf"
      },
      "execution_count": null,
      "outputs": []
    },
    {
      "cell_type": "code",
      "source": [
        "df_new[\"Variable\"].value_counts(sort=True, ascending=False).head() # check if all unique"
      ],
      "metadata": {
        "colab": {
          "base_uri": "https://localhost:8080/"
        },
        "id": "WnWUcfuL7vrI",
        "outputId": "b7f2e9d4-babe-42e0-a5a5-3691b44b0136"
      },
      "execution_count": null,
      "outputs": [
        {
          "output_type": "execute_result",
          "data": {
            "text/plain": [
              "AAACCCAGTTCCACAA    1\n",
              "GTCTCACTCTGGTGCG    1\n",
              "GTCTAGACATCGGAAG    1\n",
              "GTCTAGACATACAGGG    1\n",
              "GTCTACCCAGGTCAAG    1\n",
              "Name: Variable, dtype: int64"
            ]
          },
          "metadata": {},
          "execution_count": 9
        }
      ]
    },
    {
      "cell_type": "code",
      "source": [
        "#2.1\n",
        "len(df_new[\"Variable\"]) # by checking the length we see they are all unique"
      ],
      "metadata": {
        "colab": {
          "base_uri": "https://localhost:8080/"
        },
        "id": "2DCBrV9A7voy",
        "outputId": "9ff3d209-9890-4e1d-becd-e34680544bf7"
      },
      "execution_count": null,
      "outputs": [
        {
          "output_type": "execute_result",
          "data": {
            "text/plain": [
              "1981"
            ]
          },
          "metadata": {},
          "execution_count": 23
        }
      ]
    },
    {
      "cell_type": "code",
      "source": [
        "#3. What is highest correlation \n",
        "def get_redundant_pairs(df):\n",
        "    '''Get diagonal and lower triangular pairs of correlation matrix'''\n",
        "    pairs_to_drop = set()\n",
        "    cols = df.columns\n",
        "    for i in range(0, df.shape[1]):\n",
        "        for j in range(0, i+1):\n",
        "            pairs_to_drop.add((cols[i], cols[j]))\n",
        "    return pairs_to_drop\n",
        "\n",
        "def get_top_abs_correlations(df, n=5):\n",
        "    df = df.drop([\"Variable\"], axis=1)\n",
        "    au_corr = df.corr().abs().unstack()\n",
        "    labels_to_drop = get_redundant_pairs(df)\n",
        "    au_corr = au_corr.drop(labels=labels_to_drop).sort_values(ascending=False)\n",
        "    return au_corr[0:n]\n",
        "\n",
        "print(\"Top Absolute Correlations\")\n",
        "print(get_top_abs_correlations(df_new, 10))"
      ],
      "metadata": {
        "colab": {
          "base_uri": "https://localhost:8080/"
        },
        "id": "Y1tjVFFf7vmJ",
        "outputId": "9adcba91-1766-4e3f-f163-b8e88fc99f78"
      },
      "execution_count": null,
      "outputs": [
        {
          "output_type": "stream",
          "name": "stdout",
          "text": [
            "Top Absolute Correlations\n",
            "Hbb-bt  Hba-a1    0.895236\n",
            "Cdca8   Birc5     0.894852\n",
            "Nusap1  Prc1      0.890660\n",
            "Hbb-bt  Hba-a2    0.890610\n",
            "Hbb-bs  Hba-a1    0.883445\n",
            "Cenpf   Ube2c     0.883412\n",
            "Ccna2   Cdca8     0.883004\n",
            "Cenpa   Ccnb2     0.880318\n",
            "Hbb-bt  Hbb-bs    0.878251\n",
            "Ube2c   Prc1      0.878023\n",
            "dtype: float64\n"
          ]
        }
      ]
    },
    {
      "cell_type": "code",
      "source": [
        "# 4. What is the most commom cell type?\n",
        "\n",
        "df_new[\"cell.type\"].value_counts()"
      ],
      "metadata": {
        "colab": {
          "base_uri": "https://localhost:8080/"
        },
        "id": "t2Y-juzh8vgP",
        "outputId": "bfcaac52-83c0-4ad4-e981-bbf6f03560c2"
      },
      "execution_count": null,
      "outputs": [
        {
          "output_type": "execute_result",
          "data": {
            "text/plain": [
              "cycling_capillary    1108\n",
              "artery_1              433\n",
              "capillary             201\n",
              "artery_2              185\n",
              "vein                   54\n",
              "Name: cell.type, dtype: int64"
            ]
          },
          "metadata": {},
          "execution_count": 19
        }
      ]
    },
    {
      "cell_type": "markdown",
      "source": [
        "# EDA Summary:\n",
        "\n",
        "Looks like there are all unique gene sequences; However we can observe that some gene expression is highly correleted with others. We would expect this in some degreee based on trajectory expression of the cell's differentiation patterns. Also we see the problem will be somewhat imbalanced for our multi-classification. "
      ],
      "metadata": {
        "id": "Cx0AJlaj708T"
      }
    },
    {
      "cell_type": "markdown",
      "source": [
        "#Feature Engineering\n",
        "\n",
        "Plans: Polynomial Crossing or Reduction techniques "
      ],
      "metadata": {
        "id": "Kq2mWBc27AAW"
      }
    },
    {
      "cell_type": "markdown",
      "source": [
        "#Train Test Split\n",
        " \n",
        "Split will be 90/10"
      ],
      "metadata": {
        "id": "8W72Jk-c7SuY"
      }
    },
    {
      "cell_type": "code",
      "source": [
        "from sklearn.model_selection import train_test_split\n",
        "X_data = df_new\n",
        "\n",
        "X_train, X_test = train_test_split(X_data, test_size=0.1, random_state=4533) # 90/10"
      ],
      "metadata": {
        "id": "JjE0udXigQ0g"
      },
      "execution_count": 11,
      "outputs": []
    },
    {
      "cell_type": "markdown",
      "source": [
        "#Model (Network) Pipeline\n",
        "\n",
        "Score and Evaluation will be on classification results"
      ],
      "metadata": {
        "id": "lpN2bh0o7qp4"
      }
    },
    {
      "cell_type": "code",
      "source": [
        "# Model\n",
        "from __future__ import absolute_import\n",
        "from __future__ import division\n",
        "from __future__ import print_function\n",
        "\n",
        "from keras.layers import Lambda, Input, Dense\n",
        "from keras import regularizers as regularizers\n",
        "from keras.models import Model\n",
        "from keras.datasets import mnist\n",
        "from keras.losses import mse, binary_crossentropy\n",
        "\n",
        "from keras import backend as K\n",
        "\n",
        "import numpy as np\n",
        "import matplotlib.pyplot as plt\n",
        "import argparse\n",
        "import os \n",
        "\n",
        "# input dims\n",
        "input_dim = X_train.shape[1]\n",
        "encoding_dim = 2000\n",
        "\n",
        "# model\n",
        "# 2k -> 10 -> 2k #\n",
        "input_layer = Input(shape=(input_dim, )) \n",
        "\n",
        "### Encoder\n",
        "encoder = Dense(encoding_dim, activation=\"tanh\")(input_layer)\n",
        "encoder = Dense(int(1500), activation=\"tanh\")(encoder)\n",
        "encoder = Dense(int(1000), activation=\"tanh\")(encoder)\n",
        "encoder = Dense(int(500), activation=\"tanh\")(encoder)\n",
        "encoder = Dense(int(250), activation=\"tanh\")(encoder)\n",
        "encoder = Dense(int(125), activation=\"tanh\")(encoder)\n",
        "encoder = Dense(int(75), activation=\"tanh\")(encoder)\n",
        "encoder_50 = Dense(int(50), activation=\"tanh\")(encoder)\n",
        "encoder_25 = Dense(int(25), activation=\"tanh\")(encoder_50)\n",
        "encoder_f = Dense(int(10), activation=\"tanh\")(encoder_25)\n",
        "\n",
        "### Decoder\n",
        "decoder = Dense(int(10), activation='tanh')(encoder_f)\n",
        "decoder = Dense(input_dim, activation='tanh')(decoder)\n",
        "\n",
        "### AE Model\n",
        "autoencoder = Model(inputs=input_layer, outputs = decoder)\n",
        "\n",
        "### Encoder for only encoding the Dims\n",
        "encoder = Model(inputs = input_layer, outputs = encoder_f)"
      ],
      "metadata": {
        "id": "sTaWNLIT5JSc"
      },
      "execution_count": 28,
      "outputs": []
    },
    {
      "cell_type": "code",
      "source": [
        "autoencoder.summary()"
      ],
      "metadata": {
        "colab": {
          "base_uri": "https://localhost:8080/"
        },
        "id": "rPQhukQLg0MP",
        "outputId": "c2018e7d-a2f9-461e-9326-a29a3907d1af"
      },
      "execution_count": 29,
      "outputs": [
        {
          "output_type": "stream",
          "name": "stdout",
          "text": [
            "Model: \"model_2\"\n",
            "_________________________________________________________________\n",
            " Layer (type)                Output Shape              Param #   \n",
            "=================================================================\n",
            " input_2 (InputLayer)        [(None, 2000)]            0         \n",
            "                                                                 \n",
            " dense_12 (Dense)            (None, 2000)              4002000   \n",
            "                                                                 \n",
            " dense_13 (Dense)            (None, 1500)              3001500   \n",
            "                                                                 \n",
            " dense_14 (Dense)            (None, 1000)              1501000   \n",
            "                                                                 \n",
            " dense_15 (Dense)            (None, 500)               500500    \n",
            "                                                                 \n",
            " dense_16 (Dense)            (None, 250)               125250    \n",
            "                                                                 \n",
            " dense_17 (Dense)            (None, 125)               31375     \n",
            "                                                                 \n",
            " dense_18 (Dense)            (None, 75)                9450      \n",
            "                                                                 \n",
            " dense_19 (Dense)            (None, 50)                3800      \n",
            "                                                                 \n",
            " dense_20 (Dense)            (None, 25)                1275      \n",
            "                                                                 \n",
            " dense_21 (Dense)            (None, 10)                260       \n",
            "                                                                 \n",
            " dense_22 (Dense)            (None, 10)                110       \n",
            "                                                                 \n",
            " dense_23 (Dense)            (None, 2000)              22000     \n",
            "                                                                 \n",
            "=================================================================\n",
            "Total params: 9,198,520\n",
            "Trainable params: 9,198,520\n",
            "Non-trainable params: 0\n",
            "_________________________________________________________________\n"
          ]
        }
      ]
    },
    {
      "cell_type": "code",
      "source": [
        "nb_epoch = 150\n",
        "batch_size = 32\n",
        "\n",
        "X_train.drop([[\"Variable\", \"cell.type\"]], axis=1, inplace=True)\n",
        "#X = np.asarray(X_train).astype(np.float32) #tensor format\n",
        "\n",
        "# Compile the model\n",
        "autoencoder.compile(optimizer='adam', \n",
        "                    loss='mean_squared_error', \n",
        "                    metrics=['accuracy'])\n",
        "\n",
        "history = autoencoder.fit(X_train, X_train,\n",
        "                    epochs=nb_epoch,\n",
        "                    batch_size=batch_size,\n",
        "                    shuffle=True,\n",
        "                    #validation_data=(X_test, X_test),\n",
        "                    validation_split = 0.1,\n",
        "                    verbose=1)"
      ],
      "metadata": {
        "colab": {
          "base_uri": "https://localhost:8080/"
        },
        "id": "yzjsbvvQr6Vz",
        "outputId": "50d6095c-1b75-4858-bfe7-8ee6781dfbf4"
      },
      "execution_count": 33,
      "outputs": [
        {
          "output_type": "stream",
          "name": "stdout",
          "text": [
            "Epoch 1/150\n",
            "51/51 [==============================] - 4s 13ms/step - loss: 0.8338 - accuracy: 0.0000e+00 - val_loss: 0.8012 - val_accuracy: 0.0000e+00\n",
            "Epoch 2/150\n",
            "51/51 [==============================] - 0s 7ms/step - loss: 0.7997 - accuracy: 0.0000e+00 - val_loss: 0.7884 - val_accuracy: 0.0000e+00\n",
            "Epoch 3/150\n",
            "51/51 [==============================] - 0s 6ms/step - loss: 0.7884 - accuracy: 0.0000e+00 - val_loss: 0.7794 - val_accuracy: 0.0000e+00\n",
            "Epoch 4/150\n",
            "51/51 [==============================] - 0s 7ms/step - loss: 0.7802 - accuracy: 0.0000e+00 - val_loss: 0.7729 - val_accuracy: 0.0000e+00\n",
            "Epoch 5/150\n",
            "51/51 [==============================] - 0s 6ms/step - loss: 0.7717 - accuracy: 0.0000e+00 - val_loss: 0.7641 - val_accuracy: 0.0000e+00\n",
            "Epoch 6/150\n",
            "51/51 [==============================] - 0s 7ms/step - loss: 0.7623 - accuracy: 0.0000e+00 - val_loss: 0.7573 - val_accuracy: 0.0000e+00\n",
            "Epoch 7/150\n",
            "51/51 [==============================] - 0s 6ms/step - loss: 0.7564 - accuracy: 0.0000e+00 - val_loss: 0.7534 - val_accuracy: 0.0000e+00\n",
            "Epoch 8/150\n",
            "51/51 [==============================] - 0s 6ms/step - loss: 0.7532 - accuracy: 0.0000e+00 - val_loss: 0.7519 - val_accuracy: 0.0000e+00\n",
            "Epoch 9/150\n",
            "51/51 [==============================] - 0s 6ms/step - loss: 0.7516 - accuracy: 0.0000e+00 - val_loss: 0.7506 - val_accuracy: 0.0000e+00\n",
            "Epoch 10/150\n",
            "51/51 [==============================] - 0s 7ms/step - loss: 0.7502 - accuracy: 0.0000e+00 - val_loss: 0.7499 - val_accuracy: 0.0000e+00\n",
            "Epoch 11/150\n",
            "51/51 [==============================] - 0s 6ms/step - loss: 0.7489 - accuracy: 0.0000e+00 - val_loss: 0.7487 - val_accuracy: 0.0000e+00\n",
            "Epoch 12/150\n",
            "51/51 [==============================] - 0s 6ms/step - loss: 0.7474 - accuracy: 0.0000e+00 - val_loss: 0.7477 - val_accuracy: 0.0000e+00\n",
            "Epoch 13/150\n",
            "51/51 [==============================] - 0s 6ms/step - loss: 0.7467 - accuracy: 0.0000e+00 - val_loss: 0.7474 - val_accuracy: 0.0000e+00\n",
            "Epoch 14/150\n",
            "51/51 [==============================] - 0s 7ms/step - loss: 0.7459 - accuracy: 0.0000e+00 - val_loss: 0.7467 - val_accuracy: 0.0000e+00\n",
            "Epoch 15/150\n",
            "51/51 [==============================] - 0s 6ms/step - loss: 0.7450 - accuracy: 0.0000e+00 - val_loss: 0.7459 - val_accuracy: 0.0000e+00\n",
            "Epoch 16/150\n",
            "51/51 [==============================] - 0s 6ms/step - loss: 0.7444 - accuracy: 0.0000e+00 - val_loss: 0.7454 - val_accuracy: 0.0000e+00\n",
            "Epoch 17/150\n",
            "51/51 [==============================] - 0s 7ms/step - loss: 0.7438 - accuracy: 0.0000e+00 - val_loss: 0.7453 - val_accuracy: 0.0000e+00\n",
            "Epoch 18/150\n",
            "51/51 [==============================] - 0s 7ms/step - loss: 0.7426 - accuracy: 0.0000e+00 - val_loss: 0.7437 - val_accuracy: 0.0000e+00\n",
            "Epoch 19/150\n",
            "51/51 [==============================] - 0s 7ms/step - loss: 0.7418 - accuracy: 0.0000e+00 - val_loss: 0.7434 - val_accuracy: 0.0000e+00\n",
            "Epoch 20/150\n",
            "51/51 [==============================] - 0s 7ms/step - loss: 0.7411 - accuracy: 0.0000e+00 - val_loss: 0.7430 - val_accuracy: 0.0000e+00\n",
            "Epoch 21/150\n",
            "51/51 [==============================] - 0s 7ms/step - loss: 0.7408 - accuracy: 0.0000e+00 - val_loss: 0.7419 - val_accuracy: 0.0000e+00\n",
            "Epoch 22/150\n",
            "51/51 [==============================] - 0s 7ms/step - loss: 0.7394 - accuracy: 0.0000e+00 - val_loss: 0.7434 - val_accuracy: 0.0000e+00\n",
            "Epoch 23/150\n",
            "51/51 [==============================] - 0s 7ms/step - loss: 0.7401 - accuracy: 0.0000e+00 - val_loss: 0.7413 - val_accuracy: 0.0000e+00\n",
            "Epoch 24/150\n",
            "51/51 [==============================] - 0s 6ms/step - loss: 0.7382 - accuracy: 0.0000e+00 - val_loss: 0.7415 - val_accuracy: 0.0000e+00\n",
            "Epoch 25/150\n",
            "51/51 [==============================] - 0s 7ms/step - loss: 0.7376 - accuracy: 0.0000e+00 - val_loss: 0.7417 - val_accuracy: 0.0000e+00\n",
            "Epoch 26/150\n",
            "51/51 [==============================] - 0s 7ms/step - loss: 0.7372 - accuracy: 0.0000e+00 - val_loss: 0.7409 - val_accuracy: 0.0000e+00\n",
            "Epoch 27/150\n",
            "51/51 [==============================] - 0s 6ms/step - loss: 0.7361 - accuracy: 0.0000e+00 - val_loss: 0.7394 - val_accuracy: 0.0000e+00\n",
            "Epoch 28/150\n",
            "51/51 [==============================] - 0s 7ms/step - loss: 0.7355 - accuracy: 0.0000e+00 - val_loss: 0.7396 - val_accuracy: 0.0000e+00\n",
            "Epoch 29/150\n",
            "51/51 [==============================] - 0s 6ms/step - loss: 0.7349 - accuracy: 0.0000e+00 - val_loss: 0.7390 - val_accuracy: 0.0000e+00\n",
            "Epoch 30/150\n",
            "51/51 [==============================] - 0s 6ms/step - loss: 0.7345 - accuracy: 0.0000e+00 - val_loss: 0.7392 - val_accuracy: 0.0000e+00\n",
            "Epoch 31/150\n",
            "51/51 [==============================] - 0s 7ms/step - loss: 0.7338 - accuracy: 0.0000e+00 - val_loss: 0.7394 - val_accuracy: 0.0000e+00\n",
            "Epoch 32/150\n",
            "51/51 [==============================] - 1s 12ms/step - loss: 0.7327 - accuracy: 0.0000e+00 - val_loss: 0.7383 - val_accuracy: 0.0000e+00\n",
            "Epoch 33/150\n",
            "51/51 [==============================] - 0s 7ms/step - loss: 0.7326 - accuracy: 0.0000e+00 - val_loss: 0.7385 - val_accuracy: 0.0000e+00\n",
            "Epoch 34/150\n",
            "51/51 [==============================] - 0s 6ms/step - loss: 0.7324 - accuracy: 0.0000e+00 - val_loss: 0.7386 - val_accuracy: 0.0000e+00\n",
            "Epoch 35/150\n",
            "51/51 [==============================] - 0s 7ms/step - loss: 0.7316 - accuracy: 0.0000e+00 - val_loss: 0.7376 - val_accuracy: 0.0000e+00\n",
            "Epoch 36/150\n",
            "51/51 [==============================] - 0s 7ms/step - loss: 0.7312 - accuracy: 0.0000e+00 - val_loss: 0.7387 - val_accuracy: 0.0000e+00\n",
            "Epoch 37/150\n",
            "51/51 [==============================] - 0s 6ms/step - loss: 0.7315 - accuracy: 0.0000e+00 - val_loss: 0.7384 - val_accuracy: 0.0000e+00\n",
            "Epoch 38/150\n",
            "51/51 [==============================] - 0s 6ms/step - loss: 0.7314 - accuracy: 0.0000e+00 - val_loss: 0.7382 - val_accuracy: 0.0000e+00\n",
            "Epoch 39/150\n",
            "51/51 [==============================] - 0s 7ms/step - loss: 0.7303 - accuracy: 0.0000e+00 - val_loss: 0.7373 - val_accuracy: 0.0000e+00\n",
            "Epoch 40/150\n",
            "51/51 [==============================] - 0s 7ms/step - loss: 0.7300 - accuracy: 0.0000e+00 - val_loss: 0.7379 - val_accuracy: 0.0000e+00\n",
            "Epoch 41/150\n",
            "51/51 [==============================] - 0s 7ms/step - loss: 0.7299 - accuracy: 0.0000e+00 - val_loss: 0.7368 - val_accuracy: 0.0000e+00\n",
            "Epoch 42/150\n",
            "51/51 [==============================] - 0s 6ms/step - loss: 0.7291 - accuracy: 0.0000e+00 - val_loss: 0.7371 - val_accuracy: 0.0000e+00\n",
            "Epoch 43/150\n",
            "51/51 [==============================] - 0s 6ms/step - loss: 0.7291 - accuracy: 0.0000e+00 - val_loss: 0.7372 - val_accuracy: 0.0000e+00\n",
            "Epoch 44/150\n",
            "51/51 [==============================] - 0s 6ms/step - loss: 0.7287 - accuracy: 0.0000e+00 - val_loss: 0.7367 - val_accuracy: 0.0000e+00\n",
            "Epoch 45/150\n",
            "51/51 [==============================] - 0s 7ms/step - loss: 0.7287 - accuracy: 0.0000e+00 - val_loss: 0.7360 - val_accuracy: 0.0000e+00\n",
            "Epoch 46/150\n",
            "51/51 [==============================] - 0s 6ms/step - loss: 0.7279 - accuracy: 0.0000e+00 - val_loss: 0.7357 - val_accuracy: 0.0000e+00\n",
            "Epoch 47/150\n",
            "51/51 [==============================] - 0s 6ms/step - loss: 0.7274 - accuracy: 0.0000e+00 - val_loss: 0.7355 - val_accuracy: 0.0000e+00\n",
            "Epoch 48/150\n",
            "51/51 [==============================] - 0s 7ms/step - loss: 0.7271 - accuracy: 0.0000e+00 - val_loss: 0.7354 - val_accuracy: 0.0000e+00\n",
            "Epoch 49/150\n",
            "51/51 [==============================] - 0s 6ms/step - loss: 0.7267 - accuracy: 0.0000e+00 - val_loss: 0.7364 - val_accuracy: 0.0000e+00\n",
            "Epoch 50/150\n",
            "51/51 [==============================] - 0s 7ms/step - loss: 0.7264 - accuracy: 0.0000e+00 - val_loss: 0.7360 - val_accuracy: 0.0000e+00\n",
            "Epoch 51/150\n",
            "51/51 [==============================] - 0s 7ms/step - loss: 0.7262 - accuracy: 0.0000e+00 - val_loss: 0.7351 - val_accuracy: 0.0000e+00\n",
            "Epoch 52/150\n",
            "51/51 [==============================] - 0s 7ms/step - loss: 0.7264 - accuracy: 0.0000e+00 - val_loss: 0.7355 - val_accuracy: 0.0000e+00\n",
            "Epoch 53/150\n",
            "51/51 [==============================] - 0s 6ms/step - loss: 0.7258 - accuracy: 0.0000e+00 - val_loss: 0.7359 - val_accuracy: 0.0000e+00\n",
            "Epoch 54/150\n",
            "51/51 [==============================] - 0s 7ms/step - loss: 0.7258 - accuracy: 0.0000e+00 - val_loss: 0.7364 - val_accuracy: 0.0000e+00\n",
            "Epoch 55/150\n",
            "51/51 [==============================] - 0s 6ms/step - loss: 0.7253 - accuracy: 0.0000e+00 - val_loss: 0.7355 - val_accuracy: 0.0000e+00\n",
            "Epoch 56/150\n",
            "51/51 [==============================] - 0s 6ms/step - loss: 0.7252 - accuracy: 0.0000e+00 - val_loss: 0.7351 - val_accuracy: 0.0000e+00\n",
            "Epoch 57/150\n",
            "51/51 [==============================] - 0s 7ms/step - loss: 0.7249 - accuracy: 0.0000e+00 - val_loss: 0.7351 - val_accuracy: 0.0000e+00\n",
            "Epoch 58/150\n",
            "51/51 [==============================] - 0s 7ms/step - loss: 0.7250 - accuracy: 0.0000e+00 - val_loss: 0.7347 - val_accuracy: 0.0000e+00\n",
            "Epoch 59/150\n",
            "51/51 [==============================] - 0s 6ms/step - loss: 0.7245 - accuracy: 0.0000e+00 - val_loss: 0.7352 - val_accuracy: 0.0000e+00\n",
            "Epoch 60/150\n",
            "51/51 [==============================] - 0s 7ms/step - loss: 0.7243 - accuracy: 0.0000e+00 - val_loss: 0.7345 - val_accuracy: 0.0000e+00\n",
            "Epoch 61/150\n",
            "51/51 [==============================] - 0s 7ms/step - loss: 0.7236 - accuracy: 0.0000e+00 - val_loss: 0.7341 - val_accuracy: 0.0000e+00\n",
            "Epoch 62/150\n",
            "51/51 [==============================] - 0s 6ms/step - loss: 0.7233 - accuracy: 0.0000e+00 - val_loss: 0.7346 - val_accuracy: 0.0000e+00\n",
            "Epoch 63/150\n",
            "51/51 [==============================] - 0s 6ms/step - loss: 0.7235 - accuracy: 0.0000e+00 - val_loss: 0.7351 - val_accuracy: 0.0000e+00\n",
            "Epoch 64/150\n",
            "51/51 [==============================] - 0s 6ms/step - loss: 0.7234 - accuracy: 0.0000e+00 - val_loss: 0.7352 - val_accuracy: 0.0000e+00\n",
            "Epoch 65/150\n",
            "51/51 [==============================] - 0s 6ms/step - loss: 0.7235 - accuracy: 0.0000e+00 - val_loss: 0.7343 - val_accuracy: 0.0000e+00\n",
            "Epoch 66/150\n",
            "51/51 [==============================] - 0s 7ms/step - loss: 0.7229 - accuracy: 0.0000e+00 - val_loss: 0.7356 - val_accuracy: 0.0000e+00\n",
            "Epoch 67/150\n",
            "51/51 [==============================] - 0s 7ms/step - loss: 0.7225 - accuracy: 0.0000e+00 - val_loss: 0.7353 - val_accuracy: 0.0000e+00\n",
            "Epoch 68/150\n",
            "51/51 [==============================] - 0s 7ms/step - loss: 0.7223 - accuracy: 0.0000e+00 - val_loss: 0.7352 - val_accuracy: 0.0000e+00\n",
            "Epoch 69/150\n",
            "51/51 [==============================] - 0s 7ms/step - loss: 0.7221 - accuracy: 0.0000e+00 - val_loss: 0.7352 - val_accuracy: 0.0000e+00\n",
            "Epoch 70/150\n",
            "51/51 [==============================] - 0s 7ms/step - loss: 0.7217 - accuracy: 0.0000e+00 - val_loss: 0.7341 - val_accuracy: 0.0000e+00\n",
            "Epoch 71/150\n",
            "51/51 [==============================] - 0s 7ms/step - loss: 0.7217 - accuracy: 0.0000e+00 - val_loss: 0.7349 - val_accuracy: 0.0000e+00\n",
            "Epoch 72/150\n",
            "51/51 [==============================] - 0s 7ms/step - loss: 0.7218 - accuracy: 0.0000e+00 - val_loss: 0.7349 - val_accuracy: 0.0000e+00\n",
            "Epoch 73/150\n",
            "51/51 [==============================] - 0s 6ms/step - loss: 0.7219 - accuracy: 0.0000e+00 - val_loss: 0.7346 - val_accuracy: 0.0000e+00\n",
            "Epoch 74/150\n",
            "51/51 [==============================] - 0s 7ms/step - loss: 0.7213 - accuracy: 0.0000e+00 - val_loss: 0.7357 - val_accuracy: 0.0000e+00\n",
            "Epoch 75/150\n",
            "51/51 [==============================] - 0s 7ms/step - loss: 0.7220 - accuracy: 0.0000e+00 - val_loss: 0.7349 - val_accuracy: 0.0000e+00\n",
            "Epoch 76/150\n",
            "51/51 [==============================] - 0s 6ms/step - loss: 0.7217 - accuracy: 0.0000e+00 - val_loss: 0.7341 - val_accuracy: 0.0000e+00\n",
            "Epoch 77/150\n",
            "51/51 [==============================] - 0s 6ms/step - loss: 0.7211 - accuracy: 0.0000e+00 - val_loss: 0.7340 - val_accuracy: 0.0000e+00\n",
            "Epoch 78/150\n",
            "51/51 [==============================] - 0s 7ms/step - loss: 0.7210 - accuracy: 0.0000e+00 - val_loss: 0.7336 - val_accuracy: 0.0000e+00\n",
            "Epoch 79/150\n",
            "51/51 [==============================] - 0s 7ms/step - loss: 0.7203 - accuracy: 0.0000e+00 - val_loss: 0.7339 - val_accuracy: 0.0000e+00\n",
            "Epoch 80/150\n",
            "51/51 [==============================] - 1s 10ms/step - loss: 0.7203 - accuracy: 0.0000e+00 - val_loss: 0.7329 - val_accuracy: 0.0000e+00\n",
            "Epoch 81/150\n",
            "51/51 [==============================] - 1s 12ms/step - loss: 0.7206 - accuracy: 0.0000e+00 - val_loss: 0.7337 - val_accuracy: 0.0000e+00\n",
            "Epoch 82/150\n",
            "51/51 [==============================] - 1s 14ms/step - loss: 0.7204 - accuracy: 0.0000e+00 - val_loss: 0.7346 - val_accuracy: 0.0000e+00\n",
            "Epoch 83/150\n",
            "51/51 [==============================] - 1s 12ms/step - loss: 0.7209 - accuracy: 0.0000e+00 - val_loss: 0.7342 - val_accuracy: 0.0000e+00\n",
            "Epoch 84/150\n",
            "51/51 [==============================] - 1s 15ms/step - loss: 0.7205 - accuracy: 0.0000e+00 - val_loss: 0.7346 - val_accuracy: 0.0000e+00\n",
            "Epoch 85/150\n",
            "51/51 [==============================] - 1s 12ms/step - loss: 0.7201 - accuracy: 0.0000e+00 - val_loss: 0.7324 - val_accuracy: 0.0000e+00\n",
            "Epoch 86/150\n",
            "51/51 [==============================] - 1s 16ms/step - loss: 0.7195 - accuracy: 0.0000e+00 - val_loss: 0.7326 - val_accuracy: 0.0000e+00\n",
            "Epoch 87/150\n",
            "51/51 [==============================] - 1s 12ms/step - loss: 0.7190 - accuracy: 0.0000e+00 - val_loss: 0.7328 - val_accuracy: 0.0000e+00\n",
            "Epoch 88/150\n",
            "51/51 [==============================] - 1s 14ms/step - loss: 0.7191 - accuracy: 0.0000e+00 - val_loss: 0.7325 - val_accuracy: 0.0000e+00\n",
            "Epoch 89/150\n",
            "51/51 [==============================] - 1s 12ms/step - loss: 0.7190 - accuracy: 0.0000e+00 - val_loss: 0.7324 - val_accuracy: 0.0000e+00\n",
            "Epoch 90/150\n",
            "51/51 [==============================] - 1s 11ms/step - loss: 0.7189 - accuracy: 0.0000e+00 - val_loss: 0.7326 - val_accuracy: 0.0000e+00\n",
            "Epoch 91/150\n",
            "51/51 [==============================] - 1s 12ms/step - loss: 0.7185 - accuracy: 0.0000e+00 - val_loss: 0.7326 - val_accuracy: 0.0000e+00\n",
            "Epoch 92/150\n",
            "51/51 [==============================] - 1s 12ms/step - loss: 0.7181 - accuracy: 0.0000e+00 - val_loss: 0.7327 - val_accuracy: 0.0000e+00\n",
            "Epoch 93/150\n",
            "51/51 [==============================] - 1s 11ms/step - loss: 0.7179 - accuracy: 0.0000e+00 - val_loss: 0.7322 - val_accuracy: 0.0000e+00\n",
            "Epoch 94/150\n",
            "51/51 [==============================] - 0s 7ms/step - loss: 0.7179 - accuracy: 0.0000e+00 - val_loss: 0.7320 - val_accuracy: 0.0000e+00\n",
            "Epoch 95/150\n",
            "51/51 [==============================] - 0s 7ms/step - loss: 0.7182 - accuracy: 0.0000e+00 - val_loss: 0.7332 - val_accuracy: 0.0000e+00\n",
            "Epoch 96/150\n",
            "51/51 [==============================] - 0s 6ms/step - loss: 0.7181 - accuracy: 0.0000e+00 - val_loss: 0.7329 - val_accuracy: 0.0000e+00\n",
            "Epoch 97/150\n",
            "51/51 [==============================] - 0s 7ms/step - loss: 0.7180 - accuracy: 0.0000e+00 - val_loss: 0.7336 - val_accuracy: 0.0000e+00\n",
            "Epoch 98/150\n",
            "51/51 [==============================] - 0s 7ms/step - loss: 0.7177 - accuracy: 0.0000e+00 - val_loss: 0.7320 - val_accuracy: 0.0000e+00\n",
            "Epoch 99/150\n",
            "51/51 [==============================] - 0s 6ms/step - loss: 0.7181 - accuracy: 0.0000e+00 - val_loss: 0.7326 - val_accuracy: 0.0000e+00\n",
            "Epoch 100/150\n",
            "51/51 [==============================] - 0s 7ms/step - loss: 0.7187 - accuracy: 0.0000e+00 - val_loss: 0.7340 - val_accuracy: 0.0000e+00\n",
            "Epoch 101/150\n",
            "51/51 [==============================] - 0s 7ms/step - loss: 0.7186 - accuracy: 0.0000e+00 - val_loss: 0.7331 - val_accuracy: 0.0000e+00\n",
            "Epoch 102/150\n",
            "51/51 [==============================] - 0s 6ms/step - loss: 0.7184 - accuracy: 0.0000e+00 - val_loss: 0.7328 - val_accuracy: 0.0000e+00\n",
            "Epoch 103/150\n",
            "51/51 [==============================] - 0s 7ms/step - loss: 0.7181 - accuracy: 0.0000e+00 - val_loss: 0.7324 - val_accuracy: 0.0000e+00\n",
            "Epoch 104/150\n",
            "51/51 [==============================] - 0s 7ms/step - loss: 0.7178 - accuracy: 0.0000e+00 - val_loss: 0.7321 - val_accuracy: 0.0000e+00\n",
            "Epoch 105/150\n",
            "51/51 [==============================] - 0s 6ms/step - loss: 0.7176 - accuracy: 0.0000e+00 - val_loss: 0.7321 - val_accuracy: 0.0000e+00\n",
            "Epoch 106/150\n",
            "51/51 [==============================] - 0s 7ms/step - loss: 0.7177 - accuracy: 0.0000e+00 - val_loss: 0.7323 - val_accuracy: 0.0000e+00\n",
            "Epoch 107/150\n",
            "51/51 [==============================] - 0s 7ms/step - loss: 0.7171 - accuracy: 0.0000e+00 - val_loss: 0.7313 - val_accuracy: 0.0000e+00\n",
            "Epoch 108/150\n",
            "51/51 [==============================] - 1s 12ms/step - loss: 0.7168 - accuracy: 0.0000e+00 - val_loss: 0.7308 - val_accuracy: 0.0000e+00\n",
            "Epoch 109/150\n",
            "51/51 [==============================] - 1s 11ms/step - loss: 0.7164 - accuracy: 0.0000e+00 - val_loss: 0.7310 - val_accuracy: 0.0000e+00\n",
            "Epoch 110/150\n",
            "51/51 [==============================] - 0s 6ms/step - loss: 0.7163 - accuracy: 0.0000e+00 - val_loss: 0.7317 - val_accuracy: 0.0000e+00\n",
            "Epoch 111/150\n",
            "51/51 [==============================] - 1s 16ms/step - loss: 0.7163 - accuracy: 0.0000e+00 - val_loss: 0.7314 - val_accuracy: 0.0000e+00\n",
            "Epoch 112/150\n",
            "51/51 [==============================] - 1s 13ms/step - loss: 0.7162 - accuracy: 0.0000e+00 - val_loss: 0.7319 - val_accuracy: 0.0000e+00\n",
            "Epoch 113/150\n",
            "51/51 [==============================] - 1s 13ms/step - loss: 0.7161 - accuracy: 0.0000e+00 - val_loss: 0.7323 - val_accuracy: 0.0000e+00\n",
            "Epoch 114/150\n",
            "51/51 [==============================] - 1s 12ms/step - loss: 0.7161 - accuracy: 0.0000e+00 - val_loss: 0.7321 - val_accuracy: 0.0000e+00\n",
            "Epoch 115/150\n",
            "51/51 [==============================] - 1s 14ms/step - loss: 0.7157 - accuracy: 0.0000e+00 - val_loss: 0.7311 - val_accuracy: 0.0000e+00\n",
            "Epoch 116/150\n",
            "51/51 [==============================] - 1s 13ms/step - loss: 0.7161 - accuracy: 0.0000e+00 - val_loss: 0.7307 - val_accuracy: 0.0000e+00\n",
            "Epoch 117/150\n",
            "51/51 [==============================] - 1s 14ms/step - loss: 0.7160 - accuracy: 0.0000e+00 - val_loss: 0.7321 - val_accuracy: 0.0000e+00\n",
            "Epoch 118/150\n",
            "51/51 [==============================] - 1s 14ms/step - loss: 0.7163 - accuracy: 0.0000e+00 - val_loss: 0.7313 - val_accuracy: 0.0000e+00\n",
            "Epoch 119/150\n",
            "51/51 [==============================] - 1s 14ms/step - loss: 0.7160 - accuracy: 0.0000e+00 - val_loss: 0.7321 - val_accuracy: 0.0000e+00\n",
            "Epoch 120/150\n",
            "51/51 [==============================] - 1s 16ms/step - loss: 0.7161 - accuracy: 0.0000e+00 - val_loss: 0.7318 - val_accuracy: 0.0000e+00\n",
            "Epoch 121/150\n",
            "51/51 [==============================] - 1s 13ms/step - loss: 0.7158 - accuracy: 0.0000e+00 - val_loss: 0.7313 - val_accuracy: 0.0000e+00\n",
            "Epoch 122/150\n",
            "51/51 [==============================] - 1s 11ms/step - loss: 0.7159 - accuracy: 0.0000e+00 - val_loss: 0.7319 - val_accuracy: 0.0000e+00\n",
            "Epoch 123/150\n",
            "51/51 [==============================] - 1s 10ms/step - loss: 0.7160 - accuracy: 0.0000e+00 - val_loss: 0.7311 - val_accuracy: 0.0000e+00\n",
            "Epoch 124/150\n",
            "51/51 [==============================] - 1s 12ms/step - loss: 0.7158 - accuracy: 0.0000e+00 - val_loss: 0.7311 - val_accuracy: 0.0000e+00\n",
            "Epoch 125/150\n",
            "51/51 [==============================] - 1s 12ms/step - loss: 0.7158 - accuracy: 0.0000e+00 - val_loss: 0.7328 - val_accuracy: 0.0000e+00\n",
            "Epoch 126/150\n",
            "51/51 [==============================] - 1s 10ms/step - loss: 0.7158 - accuracy: 0.0000e+00 - val_loss: 0.7321 - val_accuracy: 0.0000e+00\n",
            "Epoch 127/150\n",
            "51/51 [==============================] - 0s 7ms/step - loss: 0.7158 - accuracy: 0.0000e+00 - val_loss: 0.7318 - val_accuracy: 0.0000e+00\n",
            "Epoch 128/150\n",
            "51/51 [==============================] - 0s 7ms/step - loss: 0.7157 - accuracy: 0.0000e+00 - val_loss: 0.7312 - val_accuracy: 0.0000e+00\n",
            "Epoch 129/150\n",
            "51/51 [==============================] - 0s 9ms/step - loss: 0.7158 - accuracy: 0.0000e+00 - val_loss: 0.7318 - val_accuracy: 0.0000e+00\n",
            "Epoch 130/150\n",
            "51/51 [==============================] - 1s 12ms/step - loss: 0.7163 - accuracy: 0.0000e+00 - val_loss: 0.7311 - val_accuracy: 0.0000e+00\n",
            "Epoch 131/150\n",
            "51/51 [==============================] - 1s 12ms/step - loss: 0.7159 - accuracy: 0.0000e+00 - val_loss: 0.7310 - val_accuracy: 0.0000e+00\n",
            "Epoch 132/150\n",
            "51/51 [==============================] - 0s 9ms/step - loss: 0.7154 - accuracy: 0.0000e+00 - val_loss: 0.7304 - val_accuracy: 0.0000e+00\n",
            "Epoch 133/150\n",
            "51/51 [==============================] - 1s 12ms/step - loss: 0.7149 - accuracy: 0.0000e+00 - val_loss: 0.7303 - val_accuracy: 0.0000e+00\n",
            "Epoch 134/150\n",
            "51/51 [==============================] - 1s 12ms/step - loss: 0.7154 - accuracy: 0.0000e+00 - val_loss: 0.7302 - val_accuracy: 0.0000e+00\n",
            "Epoch 135/150\n",
            "51/51 [==============================] - 1s 16ms/step - loss: 0.7147 - accuracy: 0.0000e+00 - val_loss: 0.7306 - val_accuracy: 0.0000e+00\n",
            "Epoch 136/150\n",
            "51/51 [==============================] - 1s 15ms/step - loss: 0.7145 - accuracy: 0.0000e+00 - val_loss: 0.7313 - val_accuracy: 0.0000e+00\n",
            "Epoch 137/150\n",
            "51/51 [==============================] - 1s 15ms/step - loss: 0.7145 - accuracy: 0.0000e+00 - val_loss: 0.7303 - val_accuracy: 0.0000e+00\n",
            "Epoch 138/150\n",
            "51/51 [==============================] - 1s 12ms/step - loss: 0.7146 - accuracy: 0.0000e+00 - val_loss: 0.7305 - val_accuracy: 0.0000e+00\n",
            "Epoch 139/150\n",
            "51/51 [==============================] - 1s 13ms/step - loss: 0.7145 - accuracy: 0.0000e+00 - val_loss: 0.7308 - val_accuracy: 0.0000e+00\n",
            "Epoch 140/150\n",
            "51/51 [==============================] - 1s 13ms/step - loss: 0.7144 - accuracy: 0.0000e+00 - val_loss: 0.7298 - val_accuracy: 0.0000e+00\n",
            "Epoch 141/150\n",
            "51/51 [==============================] - 0s 9ms/step - loss: 0.7142 - accuracy: 0.0000e+00 - val_loss: 0.7303 - val_accuracy: 0.0000e+00\n",
            "Epoch 142/150\n",
            "51/51 [==============================] - 1s 10ms/step - loss: 0.7141 - accuracy: 0.0000e+00 - val_loss: 0.7302 - val_accuracy: 0.0000e+00\n",
            "Epoch 143/150\n",
            "51/51 [==============================] - 1s 12ms/step - loss: 0.7141 - accuracy: 0.0000e+00 - val_loss: 0.7309 - val_accuracy: 0.0000e+00\n",
            "Epoch 144/150\n",
            "51/51 [==============================] - 1s 10ms/step - loss: 0.7139 - accuracy: 0.0000e+00 - val_loss: 0.7302 - val_accuracy: 0.0000e+00\n",
            "Epoch 145/150\n",
            "51/51 [==============================] - 1s 10ms/step - loss: 0.7140 - accuracy: 0.0000e+00 - val_loss: 0.7299 - val_accuracy: 0.0000e+00\n",
            "Epoch 146/150\n",
            "51/51 [==============================] - 1s 10ms/step - loss: 0.7137 - accuracy: 0.0000e+00 - val_loss: 0.7300 - val_accuracy: 0.0000e+00\n",
            "Epoch 147/150\n",
            "51/51 [==============================] - 1s 12ms/step - loss: 0.7141 - accuracy: 0.0000e+00 - val_loss: 0.7314 - val_accuracy: 0.0000e+00\n",
            "Epoch 148/150\n",
            "51/51 [==============================] - 1s 12ms/step - loss: 0.7143 - accuracy: 0.0000e+00 - val_loss: 0.7299 - val_accuracy: 0.0000e+00\n",
            "Epoch 149/150\n",
            "51/51 [==============================] - 1s 14ms/step - loss: 0.7145 - accuracy: 0.0000e+00 - val_loss: 0.7308 - val_accuracy: 0.0000e+00\n",
            "Epoch 150/150\n",
            "51/51 [==============================] - 1s 12ms/step - loss: 0.7141 - accuracy: 0.0000e+00 - val_loss: 0.7303 - val_accuracy: 0.0000e+00\n"
          ]
        }
      ]
    },
    {
      "cell_type": "code",
      "source": [
        "plt.plot(autoencoder.history.history['loss'])\n",
        "plt.plot(autoencoder.history.history['val_loss'])\n",
        "plt.title('model loss')\n",
        "plt.ylabel('loss')\n",
        "plt.xlabel('epoch')\n",
        "plt.legend(['train', 'test'], loc='upper right')"
      ],
      "metadata": {
        "colab": {
          "base_uri": "https://localhost:8080/",
          "height": 312
        },
        "id": "zijQ7PWWsjju",
        "outputId": "cfcbf905-914d-4424-b642-83ce03fc6a2c"
      },
      "execution_count": 34,
      "outputs": [
        {
          "output_type": "execute_result",
          "data": {
            "text/plain": [
              "<matplotlib.legend.Legend at 0x7fef84203690>"
            ]
          },
          "metadata": {},
          "execution_count": 34
        },
        {
          "output_type": "display_data",
          "data": {
            "text/plain": [
              "<Figure size 432x288 with 1 Axes>"
            ],
            "image/png": "[encoded data removed]"
          },
          "metadata": {
            "needs_background": "light"
          }
        }
      ]
    },
    {
      "cell_type": "code",
      "source": [
        "# Evaluate Encoded Embeddings \n",
        "X_train_enc = encoder.predict(<input>)"
      ],
      "metadata": {
        "id": "yjasSuIytYeP"
      },
      "execution_count": null,
      "outputs": []
    }
  ]
}