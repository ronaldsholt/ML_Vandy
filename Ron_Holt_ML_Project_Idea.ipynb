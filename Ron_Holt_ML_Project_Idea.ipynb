{
  "nbformat": 4,
  "nbformat_minor": 0,
  "metadata": {
    "colab": {
      "provenance": [],
      "authorship_tag": "ABX9TyPF9kNQYWnVYSJklpnXLLsw",
      "include_colab_link": true
    },
    "kernelspec": {
      "name": "python3",
      "display_name": "Python 3"
    },
    "language_info": {
      "name": "python"
    },
    "accelerator": "GPU",
    "gpuClass": "standard"
  },
  "cells": [
    {
      "cell_type": "markdown",
      "metadata": {
        "id": "view-in-github",
        "colab_type": "text"
      },
      "source": [
        "<a href=\"https://colab.research.google.com/github/ronaldsholt/ML_Vandy/blob/main/Ron_Holt_ML_Project_Idea.ipynb\" target=\"_parent\"><img src=\"https://colab.research.google.com/assets/colab-badge.svg\" alt=\"Open In Colab\"/></a>"
      ]
    },
    {
      "cell_type": "code",
      "source": [],
      "metadata": {
        "id": "vDqf6UtxISJH"
      },
      "execution_count": null,
      "outputs": []
    },
    {
      "cell_type": "markdown",
      "source": [
        "**Background**: Predicting cell lineage patterns in RNAseq measurments.\n",
        "\n",
        "**Project Description**: Using representation learning as low dimentional input to higher dimentional reduction clustering tools like TSNE or UMAP to learn cell lineage. Also evaluate against traditional methods like PCA or Logistic PCA.\n",
        "\n",
        "**Performance Metric**: Min{L2-norm/MSE}"
      ],
      "metadata": {
        "id": "6nNhFA2eIhW6"
      }
    },
    {
      "cell_type": "markdown",
      "source": [
        "#Basic EDA"
      ],
      "metadata": {
        "id": "WZj34ucE7G8k"
      }
    },
    {
      "cell_type": "code",
      "source": [
        "#Basic EDA Questions\n",
        "\n",
        "#1. How many variations are there?\n",
        "#2. What is the highest sequence variation ?\n",
        "#3. What is the highest gene-gene correlation ?\n",
        "#4. What is the class break down?"
      ],
      "metadata": {
        "id": "XsjeICquJG8Q",
        "colab": {
          "base_uri": "https://localhost:8080/"
        },
        "outputId": "e2cdb336-79de-4e57-fbda-5a759fcb59d3"
      },
      "execution_count": 1,
      "outputs": [
        {
          "output_type": "stream",
          "name": "stderr",
          "text": [
            "UsageError: Line magic function `%md` not found.\n"
          ]
        }
      ]
    },
    {
      "cell_type": "code",
      "source": [
        "# Calling and assigning GPU\n",
        "%tensorflow_version 2.x\n",
        "import tensorflow as tf\n",
        "device_name = tf.test.gpu_device_name()\n",
        "if device_name != '/device:GPU:0':\n",
        "  raise SystemError('GPU device not found')\n",
        "print('Found GPU at: {}'.format(device_name))\n"
      ],
      "metadata": {
        "colab": {
          "base_uri": "https://localhost:8080/"
        },
        "id": "cQWPyrrZ6_I7",
        "outputId": "59b181de-3bac-4d9b-fd6d-78afb2497304"
      },
      "execution_count": 1,
      "outputs": [
        {
          "output_type": "stream",
          "name": "stdout",
          "text": [
            "Colab only includes TensorFlow 2.x; %tensorflow_version has no effect.\n",
            "Found GPU at: /device:GPU:0\n"
          ]
        }
      ]
    },
    {
      "cell_type": "code",
      "source": [
        "from google.colab import drive\n",
        "drive.mount('/content/drive')"
      ],
      "metadata": {
        "colab": {
          "base_uri": "https://localhost:8080/"
        },
        "id": "I0rKogwR7OJ4",
        "outputId": "72674349-fb67-4923-b6ac-c4fa0f9f71f9"
      },
      "execution_count": 2,
      "outputs": [
        {
          "output_type": "stream",
          "name": "stdout",
          "text": [
            "Mounted at /content/drive\n"
          ]
        }
      ]
    },
    {
      "cell_type": "code",
      "source": [
        "import pandas as pd\n",
        "\n",
        "# import the data from drive\n",
        "path = \"/content/drive/My Drive/rna_proj/data/scaled_all_specific_exp/mat.norm.scale.2000.csv\" \n",
        "df = pd.read_csv(path)\n",
        "df = df.drop([\"Unnamed: 0\"], axis = 1)"
      ],
      "metadata": {
        "id": "j3sZ6vod7QoJ"
      },
      "execution_count": 3,
      "outputs": []
    },
    {
      "cell_type": "code",
      "source": [
        "path_1 = \"/content/drive/My Drive/rna_proj/data/variable.features.csv\"\n",
        "df_feat = pd.read_csv(path_1)"
      ],
      "metadata": {
        "id": "ADeyoG3p7abN"
      },
      "execution_count": 4,
      "outputs": []
    },
    {
      "cell_type": "code",
      "source": [
        "# index the columns based on 2000 features \n",
        "lst = list(df_feat[\"x\"])\n",
        "lst.append(\"Variable\") #add back the RNA seq\n",
        "\n",
        "# index df to select only these columns using intersect\n",
        "df_new = df[df.columns.intersection(lst)]"
      ],
      "metadata": {
        "id": "i5MoS9o27o1O"
      },
      "execution_count": 5,
      "outputs": []
    },
    {
      "cell_type": "code",
      "source": [
        "df_new.head()"
      ],
      "metadata": {
        "colab": {
          "base_uri": "https://localhost:8080/",
          "height": 299
        },
        "id": "P7iQWsTq7oyh",
        "outputId": "b691a581-7836-4b33-ee1e-b86caba35c8e"
      },
      "execution_count": 6,
      "outputs": [
        {
          "output_type": "execute_result",
          "data": {
            "text/plain": [
              "           Variable     Sox17     Prex2     Terf1      Mcm3   Khdrbs2  \\\n",
              "0  AAACCCAGTTCCACAA -1.393788 -0.400318  1.358433 -0.494224 -0.084449   \n",
              "1  AAACCCATCACGAACT -0.582664 -1.409803  0.177138  1.502572 -0.084449   \n",
              "2  AAACGAAAGCCGAATG -0.146528 -0.251669 -0.801586 -0.310414 -0.084449   \n",
              "3  AAACGAAGTTCAAAGA  1.102187 -0.634825  1.040665 -0.772438 -0.084449   \n",
              "4  AAACGAATCCGACGGT  0.863034  0.133187  0.329966 -0.557825 -0.084449   \n",
              "\n",
              "      Prim2      Bag2    Ptpn18    Hs6st1  ...     Nolc1     Nfkb2     Gsto1  \\\n",
              "0  0.199815 -0.490080 -0.298271 -0.493740  ...  0.447022  0.738963  1.262297   \n",
              "1  0.554011  1.077822  1.039509  0.734416  ...  0.125040 -0.603773 -0.720412   \n",
              "2  1.765205 -0.490080 -0.186529 -0.493740  ...  0.318736 -0.603773  0.582429   \n",
              "3  2.116643  0.681951 -0.487508 -0.493740  ... -0.638577 -0.603773 -0.720412   \n",
              "4 -0.616780 -0.490080  1.091608 -0.493740  ... -1.194605 -0.603773 -0.720412   \n",
              "\n",
              "       Add3      Mxi1     Dusp5   Gm16299     Pdcd4   Plekhs1     Shtn1  \n",
              "0 -0.410792  1.378466 -0.422791 -0.043317 -0.170391 -0.078911 -0.195295  \n",
              "1 -0.980596  0.055242 -0.422791 -0.043317 -0.641089 -0.078911 -0.195295  \n",
              "2 -0.028609 -0.250889  0.645672 -0.043317 -0.641089 -0.078911 -0.195295  \n",
              "3  0.131617  0.788557 -0.422791 -0.043317 -0.136620 -0.078911 -0.195295  \n",
              "4  1.233833 -0.775900  1.532813 -0.043317  1.188186 -0.078911 -0.195295  \n",
              "\n",
              "[5 rows x 2001 columns]"
            ],
            "text/html": [
              "\n",
              "  <div id=\"df-837e5979-4590-43bc-afff-aa2bbb2bdcc4\">\n",
              "    <div class=\"colab-df-container\">\n",
              "      <div>\n",
              "<style scoped>\n",
              "    .dataframe tbody tr th:only-of-type {\n",
              "        vertical-align: middle;\n",
              "    }\n",
              "\n",
              "    .dataframe tbody tr th {\n",
              "        vertical-align: top;\n",
              "    }\n",
              "\n",
              "    .dataframe thead th {\n",
              "        text-align: right;\n",
              "    }\n",
              "</style>\n",
              "<table border=\"1\" class=\"dataframe\">\n",
              "  <thead>\n",
              "    <tr style=\"text-align: right;\">\n",
              "      <th></th>\n",
              "      <th>Variable</th>\n",
              "      <th>Sox17</th>\n",
              "      <th>Prex2</th>\n",
              "      <th>Terf1</th>\n",
              "      <th>Mcm3</th>\n",
              "      <th>Khdrbs2</th>\n",
              "      <th>Prim2</th>\n",
              "      <th>Bag2</th>\n",
              "      <th>Ptpn18</th>\n",
              "      <th>Hs6st1</th>\n",
              "      <th>...</th>\n",
              "      <th>Nolc1</th>\n",
              "      <th>Nfkb2</th>\n",
              "      <th>Gsto1</th>\n",
              "      <th>Add3</th>\n",
              "      <th>Mxi1</th>\n",
              "      <th>Dusp5</th>\n",
              "      <th>Gm16299</th>\n",
              "      <th>Pdcd4</th>\n",
              "      <th>Plekhs1</th>\n",
              "      <th>Shtn1</th>\n",
              "    </tr>\n",
              "  </thead>\n",
              "  <tbody>\n",
              "    <tr>\n",
              "      <th>0</th>\n",
              "      <td>AAACCCAGTTCCACAA</td>\n",
              "      <td>-1.393788</td>\n",
              "      <td>-0.400318</td>\n",
              "      <td>1.358433</td>\n",
              "      <td>-0.494224</td>\n",
              "      <td>-0.084449</td>\n",
              "      <td>0.199815</td>\n",
              "      <td>-0.490080</td>\n",
              "      <td>-0.298271</td>\n",
              "      <td>-0.493740</td>\n",
              "      <td>...</td>\n",
              "      <td>0.447022</td>\n",
              "      <td>0.738963</td>\n",
              "      <td>1.262297</td>\n",
              "      <td>-0.410792</td>\n",
              "      <td>1.378466</td>\n",
              "      <td>-0.422791</td>\n",
              "      <td>-0.043317</td>\n",
              "      <td>-0.170391</td>\n",
              "      <td>-0.078911</td>\n",
              "      <td>-0.195295</td>\n",
              "    </tr>\n",
              "    <tr>\n",
              "      <th>1</th>\n",
              "      <td>AAACCCATCACGAACT</td>\n",
              "      <td>-0.582664</td>\n",
              "      <td>-1.409803</td>\n",
              "      <td>0.177138</td>\n",
              "      <td>1.502572</td>\n",
              "      <td>-0.084449</td>\n",
              "      <td>0.554011</td>\n",
              "      <td>1.077822</td>\n",
              "      <td>1.039509</td>\n",
              "      <td>0.734416</td>\n",
              "      <td>...</td>\n",
              "      <td>0.125040</td>\n",
              "      <td>-0.603773</td>\n",
              "      <td>-0.720412</td>\n",
              "      <td>-0.980596</td>\n",
              "      <td>0.055242</td>\n",
              "      <td>-0.422791</td>\n",
              "      <td>-0.043317</td>\n",
              "      <td>-0.641089</td>\n",
              "      <td>-0.078911</td>\n",
              "      <td>-0.195295</td>\n",
              "    </tr>\n",
              "    <tr>\n",
              "      <th>2</th>\n",
              "      <td>AAACGAAAGCCGAATG</td>\n",
              "      <td>-0.146528</td>\n",
              "      <td>-0.251669</td>\n",
              "      <td>-0.801586</td>\n",
              "      <td>-0.310414</td>\n",
              "      <td>-0.084449</td>\n",
              "      <td>1.765205</td>\n",
              "      <td>-0.490080</td>\n",
              "      <td>-0.186529</td>\n",
              "      <td>-0.493740</td>\n",
              "      <td>...</td>\n",
              "      <td>0.318736</td>\n",
              "      <td>-0.603773</td>\n",
              "      <td>0.582429</td>\n",
              "      <td>-0.028609</td>\n",
              "      <td>-0.250889</td>\n",
              "      <td>0.645672</td>\n",
              "      <td>-0.043317</td>\n",
              "      <td>-0.641089</td>\n",
              "      <td>-0.078911</td>\n",
              "      <td>-0.195295</td>\n",
              "    </tr>\n",
              "    <tr>\n",
              "      <th>3</th>\n",
              "      <td>AAACGAAGTTCAAAGA</td>\n",
              "      <td>1.102187</td>\n",
              "      <td>-0.634825</td>\n",
              "      <td>1.040665</td>\n",
              "      <td>-0.772438</td>\n",
              "      <td>-0.084449</td>\n",
              "      <td>2.116643</td>\n",
              "      <td>0.681951</td>\n",
              "      <td>-0.487508</td>\n",
              "      <td>-0.493740</td>\n",
              "      <td>...</td>\n",
              "      <td>-0.638577</td>\n",
              "      <td>-0.603773</td>\n",
              "      <td>-0.720412</td>\n",
              "      <td>0.131617</td>\n",
              "      <td>0.788557</td>\n",
              "      <td>-0.422791</td>\n",
              "      <td>-0.043317</td>\n",
              "      <td>-0.136620</td>\n",
              "      <td>-0.078911</td>\n",
              "      <td>-0.195295</td>\n",
              "    </tr>\n",
              "    <tr>\n",
              "      <th>4</th>\n",
              "      <td>AAACGAATCCGACGGT</td>\n",
              "      <td>0.863034</td>\n",
              "      <td>0.133187</td>\n",
              "      <td>0.329966</td>\n",
              "      <td>-0.557825</td>\n",
              "      <td>-0.084449</td>\n",
              "      <td>-0.616780</td>\n",
              "      <td>-0.490080</td>\n",
              "      <td>1.091608</td>\n",
              "      <td>-0.493740</td>\n",
              "      <td>...</td>\n",
              "      <td>-1.194605</td>\n",
              "      <td>-0.603773</td>\n",
              "      <td>-0.720412</td>\n",
              "      <td>1.233833</td>\n",
              "      <td>-0.775900</td>\n",
              "      <td>1.532813</td>\n",
              "      <td>-0.043317</td>\n",
              "      <td>1.188186</td>\n",
              "      <td>-0.078911</td>\n",
              "      <td>-0.195295</td>\n",
              "    </tr>\n",
              "  </tbody>\n",
              "</table>\n",
              "<p>5 rows × 2001 columns</p>\n",
              "</div>\n",
              "      <button class=\"colab-df-convert\" onclick=\"convertToInteractive('df-837e5979-4590-43bc-afff-aa2bbb2bdcc4')\"\n",
              "              title=\"Convert this dataframe to an interactive table.\"\n",
              "              style=\"display:none;\">\n",
              "        \n",
              "  <svg xmlns=\"http://www.w3.org/2000/svg\" height=\"24px\"viewBox=\"0 0 24 24\"\n",
              "       width=\"24px\">\n",
              "    <path d=\"M0 0h24v24H0V0z\" fill=\"none\"/>\n",
              "    <path d=\"M18.56 5.44l.94 2.06.94-2.06 2.06-.94-2.06-.94-.94-2.06-.94 2.06-2.06.94zm-11 1L8.5 8.5l.94-2.06 2.06-.94-2.06-.94L8.5 2.5l-.94 2.06-2.06.94zm10 10l.94 2.06.94-2.06 2.06-.94-2.06-.94-.94-2.06-.94 2.06-2.06.94z\"/><path d=\"M17.41 7.96l-1.37-1.37c-.4-.4-.92-.59-1.43-.59-.52 0-1.04.2-1.43.59L10.3 9.45l-7.72 7.72c-.78.78-.78 2.05 0 2.83L4 21.41c.39.39.9.59 1.41.59.51 0 1.02-.2 1.41-.59l7.78-7.78 2.81-2.81c.8-.78.8-2.07 0-2.86zM5.41 20L4 18.59l7.72-7.72 1.47 1.35L5.41 20z\"/>\n",
              "  </svg>\n",
              "      </button>\n",
              "      \n",
              "  <style>\n",
              "    .colab-df-container {\n",
              "      display:flex;\n",
              "      flex-wrap:wrap;\n",
              "      gap: 12px;\n",
              "    }\n",
              "\n",
              "    .colab-df-convert {\n",
              "      background-color: #E8F0FE;\n",
              "      border: none;\n",
              "      border-radius: 50%;\n",
              "      cursor: pointer;\n",
              "      display: none;\n",
              "      fill: #1967D2;\n",
              "      height: 32px;\n",
              "      padding: 0 0 0 0;\n",
              "      width: 32px;\n",
              "    }\n",
              "\n",
              "    .colab-df-convert:hover {\n",
              "      background-color: #E2EBFA;\n",
              "      box-shadow: 0px 1px 2px rgba(60, 64, 67, 0.3), 0px 1px 3px 1px rgba(60, 64, 67, 0.15);\n",
              "      fill: #174EA6;\n",
              "    }\n",
              "\n",
              "    [theme=dark] .colab-df-convert {\n",
              "      background-color: #3B4455;\n",
              "      fill: #D2E3FC;\n",
              "    }\n",
              "\n",
              "    [theme=dark] .colab-df-convert:hover {\n",
              "      background-color: #434B5C;\n",
              "      box-shadow: 0px 1px 3px 1px rgba(0, 0, 0, 0.15);\n",
              "      filter: drop-shadow(0px 1px 2px rgba(0, 0, 0, 0.3));\n",
              "      fill: #FFFFFF;\n",
              "    }\n",
              "  </style>\n",
              "\n",
              "      <script>\n",
              "        const buttonEl =\n",
              "          document.querySelector('#df-837e5979-4590-43bc-afff-aa2bbb2bdcc4 button.colab-df-convert');\n",
              "        buttonEl.style.display =\n",
              "          google.colab.kernel.accessAllowed ? 'block' : 'none';\n",
              "\n",
              "        async function convertToInteractive(key) {\n",
              "          const element = document.querySelector('#df-837e5979-4590-43bc-afff-aa2bbb2bdcc4');\n",
              "          const dataTable =\n",
              "            await google.colab.kernel.invokeFunction('convertToInteractive',\n",
              "                                                     [key], {});\n",
              "          if (!dataTable) return;\n",
              "\n",
              "          const docLinkHtml = 'Like what you see? Visit the ' +\n",
              "            '<a target=\"_blank\" href=https://colab.research.google.com/notebooks/data_table.ipynb>data table notebook</a>'\n",
              "            + ' to learn more about interactive tables.';\n",
              "          element.innerHTML = '';\n",
              "          dataTable['output_type'] = 'display_data';\n",
              "          await google.colab.output.renderOutput(dataTable, element);\n",
              "          const docLink = document.createElement('div');\n",
              "          docLink.innerHTML = docLinkHtml;\n",
              "          element.appendChild(docLink);\n",
              "        }\n",
              "      </script>\n",
              "    </div>\n",
              "  </div>\n",
              "  "
            ]
          },
          "metadata": {},
          "execution_count": 6
        }
      ]
    },
    {
      "cell_type": "code",
      "source": [
        "# Import labels, and join on Variable barcode \n",
        "# Import the 2001 cell labels\n",
        "path_3 = \"/content/drive/My Drive/rna_proj/data/cell.types.2001.csv\"\n",
        "df_labels = pd.read_csv(path_3)\n",
        "df_labels = df_labels.rename(columns={\"Unnamed: 0\": \"Variable\"})\n",
        "df_labeled = pd.merge(df_labels, df_new, on=\"Variable\")"
      ],
      "metadata": {
        "id": "mffzFPZ38UAB"
      },
      "execution_count": 16,
      "outputs": []
    },
    {
      "cell_type": "code",
      "source": [
        "df_new = df_labeled #rename\n",
        "df_new.head()"
      ],
      "metadata": {
        "colab": {
          "base_uri": "https://localhost:8080/",
          "height": 299
        },
        "id": "ClUI4G3-8ZBo",
        "outputId": "ad3d2fe1-3d82-474a-d65a-55565e196a6b"
      },
      "execution_count": 18,
      "outputs": [
        {
          "output_type": "execute_result",
          "data": {
            "text/plain": [
              "           Variable          cell.type     Sox17     Prex2     Terf1  \\\n",
              "0  AAACCCAGTTCCACAA  cycling_capillary -1.393788 -0.400318  1.358433   \n",
              "1  AAACCCATCACGAACT           artery_1 -0.582664 -1.409803  0.177138   \n",
              "2  AAACGAAAGCCGAATG  cycling_capillary -0.146528 -0.251669 -0.801586   \n",
              "3  AAACGAAGTTCAAAGA  cycling_capillary  1.102187 -0.634825  1.040665   \n",
              "4  AAACGAATCCGACGGT           artery_2  0.863034  0.133187  0.329966   \n",
              "\n",
              "       Mcm3   Khdrbs2     Prim2      Bag2    Ptpn18  ...     Nolc1     Nfkb2  \\\n",
              "0 -0.494224 -0.084449  0.199815 -0.490080 -0.298271  ...  0.447022  0.738963   \n",
              "1  1.502572 -0.084449  0.554011  1.077822  1.039509  ...  0.125040 -0.603773   \n",
              "2 -0.310414 -0.084449  1.765205 -0.490080 -0.186529  ...  0.318736 -0.603773   \n",
              "3 -0.772438 -0.084449  2.116643  0.681951 -0.487508  ... -0.638577 -0.603773   \n",
              "4 -0.557825 -0.084449 -0.616780 -0.490080  1.091608  ... -1.194605 -0.603773   \n",
              "\n",
              "      Gsto1      Add3      Mxi1     Dusp5   Gm16299     Pdcd4   Plekhs1  \\\n",
              "0  1.262297 -0.410792  1.378466 -0.422791 -0.043317 -0.170391 -0.078911   \n",
              "1 -0.720412 -0.980596  0.055242 -0.422791 -0.043317 -0.641089 -0.078911   \n",
              "2  0.582429 -0.028609 -0.250889  0.645672 -0.043317 -0.641089 -0.078911   \n",
              "3 -0.720412  0.131617  0.788557 -0.422791 -0.043317 -0.136620 -0.078911   \n",
              "4 -0.720412  1.233833 -0.775900  1.532813 -0.043317  1.188186 -0.078911   \n",
              "\n",
              "      Shtn1  \n",
              "0 -0.195295  \n",
              "1 -0.195295  \n",
              "2 -0.195295  \n",
              "3 -0.195295  \n",
              "4 -0.195295  \n",
              "\n",
              "[5 rows x 2002 columns]"
            ],
            "text/html": [
              "\n",
              "  <div id=\"df-d702833d-b22e-45d9-959c-0371831e22ea\">\n",
              "    <div class=\"colab-df-container\">\n",
              "      <div>\n",
              "<style scoped>\n",
              "    .dataframe tbody tr th:only-of-type {\n",
              "        vertical-align: middle;\n",
              "    }\n",
              "\n",
              "    .dataframe tbody tr th {\n",
              "        vertical-align: top;\n",
              "    }\n",
              "\n",
              "    .dataframe thead th {\n",
              "        text-align: right;\n",
              "    }\n",
              "</style>\n",
              "<table border=\"1\" class=\"dataframe\">\n",
              "  <thead>\n",
              "    <tr style=\"text-align: right;\">\n",
              "      <th></th>\n",
              "      <th>Variable</th>\n",
              "      <th>cell.type</th>\n",
              "      <th>Sox17</th>\n",
              "      <th>Prex2</th>\n",
              "      <th>Terf1</th>\n",
              "      <th>Mcm3</th>\n",
              "      <th>Khdrbs2</th>\n",
              "      <th>Prim2</th>\n",
              "      <th>Bag2</th>\n",
              "      <th>Ptpn18</th>\n",
              "      <th>...</th>\n",
              "      <th>Nolc1</th>\n",
              "      <th>Nfkb2</th>\n",
              "      <th>Gsto1</th>\n",
              "      <th>Add3</th>\n",
              "      <th>Mxi1</th>\n",
              "      <th>Dusp5</th>\n",
              "      <th>Gm16299</th>\n",
              "      <th>Pdcd4</th>\n",
              "      <th>Plekhs1</th>\n",
              "      <th>Shtn1</th>\n",
              "    </tr>\n",
              "  </thead>\n",
              "  <tbody>\n",
              "    <tr>\n",
              "      <th>0</th>\n",
              "      <td>AAACCCAGTTCCACAA</td>\n",
              "      <td>cycling_capillary</td>\n",
              "      <td>-1.393788</td>\n",
              "      <td>-0.400318</td>\n",
              "      <td>1.358433</td>\n",
              "      <td>-0.494224</td>\n",
              "      <td>-0.084449</td>\n",
              "      <td>0.199815</td>\n",
              "      <td>-0.490080</td>\n",
              "      <td>-0.298271</td>\n",
              "      <td>...</td>\n",
              "      <td>0.447022</td>\n",
              "      <td>0.738963</td>\n",
              "      <td>1.262297</td>\n",
              "      <td>-0.410792</td>\n",
              "      <td>1.378466</td>\n",
              "      <td>-0.422791</td>\n",
              "      <td>-0.043317</td>\n",
              "      <td>-0.170391</td>\n",
              "      <td>-0.078911</td>\n",
              "      <td>-0.195295</td>\n",
              "    </tr>\n",
              "    <tr>\n",
              "      <th>1</th>\n",
              "      <td>AAACCCATCACGAACT</td>\n",
              "      <td>artery_1</td>\n",
              "      <td>-0.582664</td>\n",
              "      <td>-1.409803</td>\n",
              "      <td>0.177138</td>\n",
              "      <td>1.502572</td>\n",
              "      <td>-0.084449</td>\n",
              "      <td>0.554011</td>\n",
              "      <td>1.077822</td>\n",
              "      <td>1.039509</td>\n",
              "      <td>...</td>\n",
              "      <td>0.125040</td>\n",
              "      <td>-0.603773</td>\n",
              "      <td>-0.720412</td>\n",
              "      <td>-0.980596</td>\n",
              "      <td>0.055242</td>\n",
              "      <td>-0.422791</td>\n",
              "      <td>-0.043317</td>\n",
              "      <td>-0.641089</td>\n",
              "      <td>-0.078911</td>\n",
              "      <td>-0.195295</td>\n",
              "    </tr>\n",
              "    <tr>\n",
              "      <th>2</th>\n",
              "      <td>AAACGAAAGCCGAATG</td>\n",
              "      <td>cycling_capillary</td>\n",
              "      <td>-0.146528</td>\n",
              "      <td>-0.251669</td>\n",
              "      <td>-0.801586</td>\n",
              "      <td>-0.310414</td>\n",
              "      <td>-0.084449</td>\n",
              "      <td>1.765205</td>\n",
              "      <td>-0.490080</td>\n",
              "      <td>-0.186529</td>\n",
              "      <td>...</td>\n",
              "      <td>0.318736</td>\n",
              "      <td>-0.603773</td>\n",
              "      <td>0.582429</td>\n",
              "      <td>-0.028609</td>\n",
              "      <td>-0.250889</td>\n",
              "      <td>0.645672</td>\n",
              "      <td>-0.043317</td>\n",
              "      <td>-0.641089</td>\n",
              "      <td>-0.078911</td>\n",
              "      <td>-0.195295</td>\n",
              "    </tr>\n",
              "    <tr>\n",
              "      <th>3</th>\n",
              "      <td>AAACGAAGTTCAAAGA</td>\n",
              "      <td>cycling_capillary</td>\n",
              "      <td>1.102187</td>\n",
              "      <td>-0.634825</td>\n",
              "      <td>1.040665</td>\n",
              "      <td>-0.772438</td>\n",
              "      <td>-0.084449</td>\n",
              "      <td>2.116643</td>\n",
              "      <td>0.681951</td>\n",
              "      <td>-0.487508</td>\n",
              "      <td>...</td>\n",
              "      <td>-0.638577</td>\n",
              "      <td>-0.603773</td>\n",
              "      <td>-0.720412</td>\n",
              "      <td>0.131617</td>\n",
              "      <td>0.788557</td>\n",
              "      <td>-0.422791</td>\n",
              "      <td>-0.043317</td>\n",
              "      <td>-0.136620</td>\n",
              "      <td>-0.078911</td>\n",
              "      <td>-0.195295</td>\n",
              "    </tr>\n",
              "    <tr>\n",
              "      <th>4</th>\n",
              "      <td>AAACGAATCCGACGGT</td>\n",
              "      <td>artery_2</td>\n",
              "      <td>0.863034</td>\n",
              "      <td>0.133187</td>\n",
              "      <td>0.329966</td>\n",
              "      <td>-0.557825</td>\n",
              "      <td>-0.084449</td>\n",
              "      <td>-0.616780</td>\n",
              "      <td>-0.490080</td>\n",
              "      <td>1.091608</td>\n",
              "      <td>...</td>\n",
              "      <td>-1.194605</td>\n",
              "      <td>-0.603773</td>\n",
              "      <td>-0.720412</td>\n",
              "      <td>1.233833</td>\n",
              "      <td>-0.775900</td>\n",
              "      <td>1.532813</td>\n",
              "      <td>-0.043317</td>\n",
              "      <td>1.188186</td>\n",
              "      <td>-0.078911</td>\n",
              "      <td>-0.195295</td>\n",
              "    </tr>\n",
              "  </tbody>\n",
              "</table>\n",
              "<p>5 rows × 2002 columns</p>\n",
              "</div>\n",
              "      <button class=\"colab-df-convert\" onclick=\"convertToInteractive('df-d702833d-b22e-45d9-959c-0371831e22ea')\"\n",
              "              title=\"Convert this dataframe to an interactive table.\"\n",
              "              style=\"display:none;\">\n",
              "        \n",
              "  <svg xmlns=\"http://www.w3.org/2000/svg\" height=\"24px\"viewBox=\"0 0 24 24\"\n",
              "       width=\"24px\">\n",
              "    <path d=\"M0 0h24v24H0V0z\" fill=\"none\"/>\n",
              "    <path d=\"M18.56 5.44l.94 2.06.94-2.06 2.06-.94-2.06-.94-.94-2.06-.94 2.06-2.06.94zm-11 1L8.5 8.5l.94-2.06 2.06-.94-2.06-.94L8.5 2.5l-.94 2.06-2.06.94zm10 10l.94 2.06.94-2.06 2.06-.94-2.06-.94-.94-2.06-.94 2.06-2.06.94z\"/><path d=\"M17.41 7.96l-1.37-1.37c-.4-.4-.92-.59-1.43-.59-.52 0-1.04.2-1.43.59L10.3 9.45l-7.72 7.72c-.78.78-.78 2.05 0 2.83L4 21.41c.39.39.9.59 1.41.59.51 0 1.02-.2 1.41-.59l7.78-7.78 2.81-2.81c.8-.78.8-2.07 0-2.86zM5.41 20L4 18.59l7.72-7.72 1.47 1.35L5.41 20z\"/>\n",
              "  </svg>\n",
              "      </button>\n",
              "      \n",
              "  <style>\n",
              "    .colab-df-container {\n",
              "      display:flex;\n",
              "      flex-wrap:wrap;\n",
              "      gap: 12px;\n",
              "    }\n",
              "\n",
              "    .colab-df-convert {\n",
              "      background-color: #E8F0FE;\n",
              "      border: none;\n",
              "      border-radius: 50%;\n",
              "      cursor: pointer;\n",
              "      display: none;\n",
              "      fill: #1967D2;\n",
              "      height: 32px;\n",
              "      padding: 0 0 0 0;\n",
              "      width: 32px;\n",
              "    }\n",
              "\n",
              "    .colab-df-convert:hover {\n",
              "      background-color: #E2EBFA;\n",
              "      box-shadow: 0px 1px 2px rgba(60, 64, 67, 0.3), 0px 1px 3px 1px rgba(60, 64, 67, 0.15);\n",
              "      fill: #174EA6;\n",
              "    }\n",
              "\n",
              "    [theme=dark] .colab-df-convert {\n",
              "      background-color: #3B4455;\n",
              "      fill: #D2E3FC;\n",
              "    }\n",
              "\n",
              "    [theme=dark] .colab-df-convert:hover {\n",
              "      background-color: #434B5C;\n",
              "      box-shadow: 0px 1px 3px 1px rgba(0, 0, 0, 0.15);\n",
              "      filter: drop-shadow(0px 1px 2px rgba(0, 0, 0, 0.3));\n",
              "      fill: #FFFFFF;\n",
              "    }\n",
              "  </style>\n",
              "\n",
              "      <script>\n",
              "        const buttonEl =\n",
              "          document.querySelector('#df-d702833d-b22e-45d9-959c-0371831e22ea button.colab-df-convert');\n",
              "        buttonEl.style.display =\n",
              "          google.colab.kernel.accessAllowed ? 'block' : 'none';\n",
              "\n",
              "        async function convertToInteractive(key) {\n",
              "          const element = document.querySelector('#df-d702833d-b22e-45d9-959c-0371831e22ea');\n",
              "          const dataTable =\n",
              "            await google.colab.kernel.invokeFunction('convertToInteractive',\n",
              "                                                     [key], {});\n",
              "          if (!dataTable) return;\n",
              "\n",
              "          const docLinkHtml = 'Like what you see? Visit the ' +\n",
              "            '<a target=\"_blank\" href=https://colab.research.google.com/notebooks/data_table.ipynb>data table notebook</a>'\n",
              "            + ' to learn more about interactive tables.';\n",
              "          element.innerHTML = '';\n",
              "          dataTable['output_type'] = 'display_data';\n",
              "          await google.colab.output.renderOutput(dataTable, element);\n",
              "          const docLink = document.createElement('div');\n",
              "          docLink.innerHTML = docLinkHtml;\n",
              "          element.appendChild(docLink);\n",
              "        }\n",
              "      </script>\n",
              "    </div>\n",
              "  </div>\n",
              "  "
            ]
          },
          "metadata": {},
          "execution_count": 18
        }
      ]
    },
    {
      "cell_type": "markdown",
      "source": [
        "# EDA Questions"
      ],
      "metadata": {
        "id": "m_GBx8jl8rD_"
      }
    },
    {
      "cell_type": "code",
      "source": [
        "#1. How many variations are there?\n",
        "\n",
        "df_new[\"Variable\"].nunique()"
      ],
      "metadata": {
        "colab": {
          "base_uri": "https://localhost:8080/"
        },
        "id": "eiT2O6_O7u2q",
        "outputId": "0760edb8-6006-488c-bf9a-2099f4976a19"
      },
      "execution_count": 7,
      "outputs": [
        {
          "output_type": "execute_result",
          "data": {
            "text/plain": [
              "1981"
            ]
          },
          "metadata": {},
          "execution_count": 7
        }
      ]
    },
    {
      "cell_type": "code",
      "source": [
        "#2. What is the highest sequence variation ?"
      ],
      "metadata": {
        "id": "o3xfgnvA7vtf"
      },
      "execution_count": 8,
      "outputs": []
    },
    {
      "cell_type": "code",
      "source": [
        "df_new[\"Variable\"].value_counts(sort=True, ascending=False).head() # check if all unique"
      ],
      "metadata": {
        "colab": {
          "base_uri": "https://localhost:8080/"
        },
        "id": "WnWUcfuL7vrI",
        "outputId": "b7f2e9d4-babe-42e0-a5a5-3691b44b0136"
      },
      "execution_count": 9,
      "outputs": [
        {
          "output_type": "execute_result",
          "data": {
            "text/plain": [
              "AAACCCAGTTCCACAA    1\n",
              "GTCTCACTCTGGTGCG    1\n",
              "GTCTAGACATCGGAAG    1\n",
              "GTCTAGACATACAGGG    1\n",
              "GTCTACCCAGGTCAAG    1\n",
              "Name: Variable, dtype: int64"
            ]
          },
          "metadata": {},
          "execution_count": 9
        }
      ]
    },
    {
      "cell_type": "code",
      "source": [
        "#2.1\n",
        "len(df_new[\"Variable\"]) # by checking the length we see they are all unique"
      ],
      "metadata": {
        "colab": {
          "base_uri": "https://localhost:8080/"
        },
        "id": "2DCBrV9A7voy",
        "outputId": "9ff3d209-9890-4e1d-becd-e34680544bf7"
      },
      "execution_count": 23,
      "outputs": [
        {
          "output_type": "execute_result",
          "data": {
            "text/plain": [
              "1981"
            ]
          },
          "metadata": {},
          "execution_count": 23
        }
      ]
    },
    {
      "cell_type": "code",
      "source": [
        "#3. What is highest correlation \n",
        "def get_redundant_pairs(df):\n",
        "    '''Get diagonal and lower triangular pairs of correlation matrix'''\n",
        "    pairs_to_drop = set()\n",
        "    cols = df.columns\n",
        "    for i in range(0, df.shape[1]):\n",
        "        for j in range(0, i+1):\n",
        "            pairs_to_drop.add((cols[i], cols[j]))\n",
        "    return pairs_to_drop\n",
        "\n",
        "def get_top_abs_correlations(df, n=5):\n",
        "    df = df.drop([\"Variable\"], axis=1)\n",
        "    au_corr = df.corr().abs().unstack()\n",
        "    labels_to_drop = get_redundant_pairs(df)\n",
        "    au_corr = au_corr.drop(labels=labels_to_drop).sort_values(ascending=False)\n",
        "    return au_corr[0:n]\n",
        "\n",
        "print(\"Top Absolute Correlations\")\n",
        "print(get_top_abs_correlations(df_new, 10))"
      ],
      "metadata": {
        "colab": {
          "base_uri": "https://localhost:8080/"
        },
        "id": "Y1tjVFFf7vmJ",
        "outputId": "9adcba91-1766-4e3f-f163-b8e88fc99f78"
      },
      "execution_count": 15,
      "outputs": [
        {
          "output_type": "stream",
          "name": "stdout",
          "text": [
            "Top Absolute Correlations\n",
            "Hbb-bt  Hba-a1    0.895236\n",
            "Cdca8   Birc5     0.894852\n",
            "Nusap1  Prc1      0.890660\n",
            "Hbb-bt  Hba-a2    0.890610\n",
            "Hbb-bs  Hba-a1    0.883445\n",
            "Cenpf   Ube2c     0.883412\n",
            "Ccna2   Cdca8     0.883004\n",
            "Cenpa   Ccnb2     0.880318\n",
            "Hbb-bt  Hbb-bs    0.878251\n",
            "Ube2c   Prc1      0.878023\n",
            "dtype: float64\n"
          ]
        }
      ]
    },
    {
      "cell_type": "code",
      "source": [
        "# 4. What is the most commom cell type?\n",
        "\n",
        "df_new[\"cell.type\"].value_counts()"
      ],
      "metadata": {
        "colab": {
          "base_uri": "https://localhost:8080/"
        },
        "id": "t2Y-juzh8vgP",
        "outputId": "bfcaac52-83c0-4ad4-e981-bbf6f03560c2"
      },
      "execution_count": 19,
      "outputs": [
        {
          "output_type": "execute_result",
          "data": {
            "text/plain": [
              "cycling_capillary    1108\n",
              "artery_1              433\n",
              "capillary             201\n",
              "artery_2              185\n",
              "vein                   54\n",
              "Name: cell.type, dtype: int64"
            ]
          },
          "metadata": {},
          "execution_count": 19
        }
      ]
    },
    {
      "cell_type": "markdown",
      "source": [
        "# EDA Summary:\n",
        "\n",
        "Looks like there are all unique gene sequences; However we can observe that some gene expression is highly correleted with others. We would expect this in some degreee based on trajectory expression of the cell's differentiation patterns. Also we see the problem will be somewhat imbalanced for our multi-classification. "
      ],
      "metadata": {
        "id": "Cx0AJlaj708T"
      }
    },
    {
      "cell_type": "markdown",
      "source": [
        "#Feature Engineering\n",
        "\n",
        "Plans: Polynomial Crossing or Reduction techniques "
      ],
      "metadata": {
        "id": "Kq2mWBc27AAW"
      }
    },
    {
      "cell_type": "markdown",
      "source": [
        "#Train Test Split\n",
        " \n",
        "Split will be 90/10"
      ],
      "metadata": {
        "id": "8W72Jk-c7SuY"
      }
    },
    {
      "cell_type": "markdown",
      "source": [
        "#Pipelines\n",
        "\n",
        "##import -> Check -> Split (maybe upsample or downsample based on class imbalance) -> Model -> Output -> Score"
      ],
      "metadata": {
        "id": "DM1VmZa17eU0"
      }
    },
    {
      "cell_type": "markdown",
      "source": [
        "#Model Fitting\n",
        "\n",
        "Score and Evaluation will be on classification results"
      ],
      "metadata": {
        "id": "lpN2bh0o7qp4"
      }
    },
    {
      "cell_type": "code",
      "source": [],
      "metadata": {
        "id": "sTaWNLIT5JSc"
      },
      "execution_count": null,
      "outputs": []
    }
  ]
}